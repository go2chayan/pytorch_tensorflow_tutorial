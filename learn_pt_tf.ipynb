{
 "cells": [
  {
   "cell_type": "code",
   "execution_count": 18,
   "id": "0b0cebef-926c-485b-b430-cf1242711df5",
   "metadata": {
    "jupyter": {
     "source_hidden": true
    },
    "tags": []
   },
   "outputs": [],
   "source": [
    "from IPython.display import HTML, display, Math \n",
    "import warnings\n",
    "warnings.filterwarnings('ignore')"
   ]
  },
  {
   "cell_type": "markdown",
   "id": "57593cc0-f2e3-4953-815a-c6369f1442bf",
   "metadata": {},
   "source": [
    "# Learn pyTorch and Tensorflow Simultaneously"
   ]
  },
  {
   "cell_type": "markdown",
   "id": "bf5a3ad4-454d-4eb2-aa2c-f48c422fa6a9",
   "metadata": {},
   "source": [
    "If you are interested in machine learning and can't decide whether to learn [pyTorch](https://pytorch.org/) or [Tensorflow](https://www.tensorflow.org/), this is an article for you. Why should we fall for the hassel of learning one then migrating to other when needed, when it is possible to learn both simultaneously?\n",
    "\n",
    "From version 2.0, coding experience for Tensorflow is becoming more and more like pyTorch---thanks to the introduction of Gradient tape. Following this tutorial, you can quickly become profecient in both pyTorch and Tensorflow."
   ]
  },
  {
   "cell_type": "markdown",
   "id": "eb0082ec-6fa1-4acb-a275-dc6ef16cdac6",
   "metadata": {},
   "source": [
    "## Tape-based Graient Computation\n",
    "“Wengert list” [1] is a natural way to compute the numeric values of full or partial derivatives of an algebraic function without developing the analytical expression of the derivatives."
   ]
  },
  {
   "cell_type": "code",
   "execution_count": 19,
   "id": "c1ea1b10-1e1b-4cd9-9b6c-ed02a19d2496",
   "metadata": {
    "jupyter": {
     "source_hidden": true
    },
    "tags": []
   },
   "outputs": [
    {
     "data": {
      "text/html": [
       "<img src=\"https://www.dropbox.com/s/hgmguh7ieuxxszs/magnetic-tape.png?dl=1\" width=400>"
      ],
      "text/plain": [
       "<IPython.core.display.HTML object>"
      ]
     },
     "execution_count": 19,
     "metadata": {},
     "output_type": "execute_result"
    }
   ],
   "source": [
    "HTML('<img src=\"https://www.dropbox.com/s/hgmguh7ieuxxszs/magnetic-tape.png?dl=1\" width=400>')"
   ]
  },
  {
   "cell_type": "markdown",
   "id": "c44dd4b9-f9b5-4f16-bad0-146773e44689",
   "metadata": {},
   "source": [
    "* It works like a magnetic tape that records the mathematical operations that are applied to some variables. This enables efficient implementation of backpropagation algorithms along an arbitrary directed acyclic graph (DAG) of mathematical operations\n",
    "* It is implemented as “Autograd” in pyTorch, and as “GradientTape” in tensorflow\n",
    "* Tape-based architecture is conceptually closer to the mathematical formulations used by researchers (as opposed to layer architecture which is conceptually closer to software engineers)\n",
    "* The concept of tape is almost identical for pyTorch and TensorFlow and thus enables easier transition of code from research to production\n",
    "* For pyTorch, it enables implementation of dynamic neural networks (i.e. networks that can change its architecture in training or inference time based on the data)\n",
    "* For Tensorflow, it enables automatic construction of computation graphs from python code which leads to extremely fast computation with/without specialized hardware (e.g. GPU, TPU)\n",
    "\n",
    "[1] R.E. Wengert (1964). \"A simple automatic derivative evaluation program\". Comm. ACM. 7 (8): 463–464."
   ]
  },
  {
   "cell_type": "markdown",
   "id": "0fe73a8d-5432-44e3-bce1-e79292f38cbf",
   "metadata": {},
   "source": [
    "## Computing the Gradient\n",
    "Computing the [gradient](https://en.wikipedia.org/wiki/Gradient) of a vector is the fundamental operation that takes place in neural networks and many other machine learning techniques that adopt [gradient decent](https://en.wikipedia.org/wiki/Gradient_descent) or similar optimization approaches. Let’s revise the concept through an example:\n",
    "\n",
    "Let's assume $x = \\left[x_1, x_2, x_3\\right]^T$ is a three dimentional vector. What is the gradient of $z=x^Tx$?"
   ]
  },
  {
   "cell_type": "code",
   "execution_count": 20,
   "id": "4ff425a8-365e-4303-9485-a846517932e6",
   "metadata": {
    "jupyter": {
     "source_hidden": true
    },
    "tags": []
   },
   "outputs": [
    {
     "data": {
      "text/latex": [
       "$\\displaystyle \n",
       "z = \\begin{bmatrix}x_{1}, x_{2}, x_{3}\\end{bmatrix}\\begin{bmatrix}x_{1} \\\\x_{2} \\\\x_{3}\\end{bmatrix} = x_1^2+x_2^2+x_3^2 \\quad\\quad \n",
       "    \\text{so,}\n",
       "    \\nabla_x z = \\begin{bmatrix}\\frac{\\partial z}{\\partial x_{1}} \\\\\\frac{\\partial z}{\\partial x_{2}} \\\\\\frac{\\partial z}{\\partial x_{3}}\\end{bmatrix} = 2x\n",
       "  $"
      ],
      "text/plain": [
       "<IPython.core.display.Math object>"
      ]
     },
     "metadata": {},
     "output_type": "display_data"
    }
   ],
   "source": [
    "display(Math(r\"\"\"\n",
    "z = \\begin{bmatrix}x_{1}, x_{2}, x_{3}\\end{bmatrix}\\begin{bmatrix}x_{1} \\\\x_{2} \\\\x_{3}\\end{bmatrix} = x_1^2+x_2^2+x_3^2 \\quad\\quad \n",
    "    \\text{so,}\n",
    "    \\nabla_x z = \\begin{bmatrix}\\frac{\\partial z}{\\partial x_{1}} \\\\\\frac{\\partial z}{\\partial x_{2}} \\\\\\frac{\\partial z}{\\partial x_{3}}\\end{bmatrix} = 2x\n",
    "  \"\"\"))"
   ]
  },
  {
   "cell_type": "markdown",
   "id": "74581570-926d-4c93-aa89-5cb8b39961f3",
   "metadata": {},
   "source": [
    "## Automatic Computation of Gradients\n",
    "In pyTorch, variables already include a tape. So, they remember the mathematical operations as long as “requires_grad” is set to true. This enables automatic gradient calculation"
   ]
  },
  {
   "cell_type": "code",
   "execution_count": 21,
   "id": "8b0f4c1b-5a7c-4bfe-bcf0-2219b682b69d",
   "metadata": {
    "tags": []
   },
   "outputs": [
    {
     "name": "stdout",
     "output_type": "stream",
     "text": [
      "tensor([1., 2., 3.], requires_grad=True) tensor([1., 4., 9.], grad_fn=<PowBackward0>) tensor(14., grad_fn=<SumBackward0>)\n",
      "tensor([2., 4., 6.])\n"
     ]
    }
   ],
   "source": [
    "import torch\n",
    "from torch.autograd import Variable \n",
    "\n",
    "x = Variable(torch.Tensor([1,2,3]), requires_grad=True)\n",
    "y = x**2\n",
    "z = y.sum()\n",
    "print(x, y, z) \n",
    "\n",
    "# It is necessary to remember the mathematical operations\n",
    "# to compute the gradients. We start back propagation \n",
    "# from z and want the gradient w.r.t. x\n",
    "z.backward()\n",
    "print(x.grad) \n",
    "\n",
    "# Using GPU\n",
    "x = x.cuda(0)"
   ]
  },
  {
   "cell_type": "markdown",
   "id": "eeb98f89-c83d-441e-8e12-487aa8668fa0",
   "metadata": {},
   "source": [
    "In Tensorflow 2.x, the same is done with the help of GradientTape"
   ]
  },
  {
   "cell_type": "code",
   "execution_count": 22,
   "id": "22cadd2d-d63e-4b8a-8f08-aa128f5a24f1",
   "metadata": {},
   "outputs": [
    {
     "name": "stdout",
     "output_type": "stream",
     "text": [
      "tf.Tensor([2. 4. 6.], shape=(3,), dtype=float32)\n",
      "tf.Tensor([2. 4. 6.], shape=(3,), dtype=float32)\n"
     ]
    }
   ],
   "source": [
    "import tensorflow as tf\n",
    "\n",
    "x = tf.Variable([1.0, 2.0, 3.0]) \n",
    "x_tensor = tf.convert_to_tensor([1.0, 2.0, 3.0]) \n",
    "\n",
    "# Tensorflow Variables automatically gets attached to the tape \n",
    "with tf.GradientTape() as tape: \n",
    "    y = x ** 2\n",
    "    z = tf.math.reduce_sum(y) \n",
    "\n",
    "# If it is a tensor, you need to manually attach it to the tape \n",
    "# by calling the watch function \n",
    "with tf.GradientTape() as tape2: \n",
    "    tape2.watch(x_tensor) # attaching the tensor to the tape \n",
    "    y_tensor = x_tensor ** 2\n",
    "    z_tensor = tf.math.reduce_sum(y_tensor) \n",
    "\n",
    "grad = tape.gradient(z, x) \n",
    "grad_tensor = tape2.gradient(z_tensor,x_tensor) \n",
    "print(grad) \n",
    "print(grad_tensor) \n"
   ]
  },
  {
   "cell_type": "markdown",
   "id": "a6a26871-e059-4944-98d0-e69def0d6c27",
   "metadata": {},
   "source": [
    "## Gradient Descent\n",
    "Gradient descent is an algorithm to find the optima (e.g. minima or maxima) of a function. Let’s see the algorithm in action:"
   ]
  },
  {
   "cell_type": "code",
   "execution_count": 23,
   "id": "27fbd30e-bbed-44ce-98f9-f3f0130fac0e",
   "metadata": {
    "jupyter": {
     "source_hidden": true
    },
    "tags": []
   },
   "outputs": [
    {
     "data": {
      "text/html": [
       "<img src=\"https://www.dropbox.com/s/5bm62eqdveo9h5g/pytorch_tensorflow_tutorial_1.gif?dl=1\">"
      ],
      "text/plain": [
       "<IPython.core.display.HTML object>"
      ]
     },
     "execution_count": 23,
     "metadata": {},
     "output_type": "execute_result"
    }
   ],
   "source": [
    "HTML('<img src=\"https://www.dropbox.com/s/5bm62eqdveo9h5g/pytorch_tensorflow_tutorial_1.gif?dl=1\">')"
   ]
  },
  {
   "cell_type": "markdown",
   "id": "d65ea928-e1ea-4f8f-a404-2f0f21506eb6",
   "metadata": {},
   "source": [
    "## Implementing Gradient Descent\n",
    "\n",
    "### pyTorch"
   ]
  },
  {
   "cell_type": "code",
   "execution_count": 24,
   "id": "22d67063-f95b-4635-923e-2165efa0aad6",
   "metadata": {},
   "outputs": [
    {
     "name": "stdout",
     "output_type": "stream",
     "text": [
      "tensor([-5.5000,  5.5000], requires_grad=True)\n",
      "tensor([-1.2500,  4.2500])\n",
      "tensor([0.8750, 3.6250])\n",
      "tensor([1.9375, 3.3125])\n",
      "tensor([2.4688, 3.1562])\n",
      "tensor([2.7344, 3.0781])\n"
     ]
    }
   ],
   "source": [
    "import torch\n",
    "from torch.autograd import Variable \n",
    "\n",
    "x = Variable(torch.Tensor([-5.5, 5.5]), requires_grad=True) \n",
    "print(x) \n",
    "for i in range(5):    \n",
    "    # Also try some other complicated functions of x\n",
    "    y = (x-3)**2\n",
    "    z = y.sum()\n",
    "    z.backward()\n",
    "    out = x.data - 0.25*x.grad.data\n",
    "    print(out)\n",
    "    x = Variable(out, requires_grad=True)"
   ]
  },
  {
   "cell_type": "markdown",
   "id": "3dc20811-047d-45b7-974c-3c10025dcad2",
   "metadata": {},
   "source": [
    "### Tensorflow"
   ]
  },
  {
   "cell_type": "code",
   "execution_count": 25,
   "id": "05a48c7c-5450-4d5b-bf62-c4fc89cc4765",
   "metadata": {},
   "outputs": [
    {
     "name": "stdout",
     "output_type": "stream",
     "text": [
      "<tf.Variable 'Variable:0' shape=(2,) dtype=float32, numpy=array([-5.5,  3. ], dtype=float32)>\n",
      "tf.Tensor([-17.   0.], shape=(2,), dtype=float32)\n",
      "tf.Tensor([-1.25  3.  ], shape=(2,), dtype=float32)\n",
      "tf.Tensor([-8.5  0. ], shape=(2,), dtype=float32)\n",
      "tf.Tensor([0.875 3.   ], shape=(2,), dtype=float32)\n",
      "tf.Tensor([-4.25  0.  ], shape=(2,), dtype=float32)\n",
      "tf.Tensor([1.9375 3.    ], shape=(2,), dtype=float32)\n",
      "tf.Tensor([-2.125  0.   ], shape=(2,), dtype=float32)\n",
      "tf.Tensor([2.46875 3.     ], shape=(2,), dtype=float32)\n",
      "tf.Tensor([-1.0625  0.    ], shape=(2,), dtype=float32)\n",
      "tf.Tensor([2.734375 3.      ], shape=(2,), dtype=float32)\n"
     ]
    }
   ],
   "source": [
    "import tensorflow as tf\n",
    "\n",
    "x = tf.Variable([-5.5, 3.]) \n",
    "print(x) \n",
    "\n",
    "for i in range(5): \n",
    "    with tf.GradientTape() as tape: \n",
    "        tape.watch(x) \n",
    "        y = (x - 3) ** 2. \n",
    "        z = tf.reduce_sum(y) \n",
    "        dz_dx = tape.gradient(z, x) \n",
    "        print(dz_dx) \n",
    "        # Update parameter \n",
    "        x = x - 0.25*dz_dx \n",
    "        print(x)"
   ]
  },
  {
   "cell_type": "markdown",
   "id": "daddcaa7-c213-4bd2-a59c-464656bfa2c8",
   "metadata": {},
   "source": [
    "## Implementing a simple neuron\n",
    "\n",
    "Let us implement an `or gate` using a simple neuron. The neuron must take two numbers (each can be either 0 or 1) and produce the logical `OR` operation between the output. The beauty of a neural network is that we do not need to explicitely tell it how to actually do the computation. We'll just provide the inputs and the outputs; the network will automatically figure out what to do with the input to produce the correct output.\n",
    "\n",
    "The mathematical formulation of the neuron is shown below."
   ]
  },
  {
   "cell_type": "code",
   "execution_count": 26,
   "id": "0f5f39f9-9921-4548-abde-ceabea927190",
   "metadata": {
    "jupyter": {
     "source_hidden": true
    },
    "tags": []
   },
   "outputs": [
    {
     "data": {
      "text/html": [
       "<img src=\"https://www.dropbox.com/s/a6zb23eu3dhaj9y/Simple_neuron_1.png?dl=1\">"
      ],
      "text/plain": [
       "<IPython.core.display.HTML object>"
      ]
     },
     "execution_count": 26,
     "metadata": {},
     "output_type": "execute_result"
    }
   ],
   "source": [
    "HTML('<img src=\"https://www.dropbox.com/s/a6zb23eu3dhaj9y/Simple_neuron_1.png?dl=1\">')"
   ]
  },
  {
   "cell_type": "markdown",
   "id": "30f73f94-f826-4f7f-b09c-71479236a217",
   "metadata": {},
   "source": [
    "In the following code snippets, notice how similar pyTorch and Tensorflow codes are. The neural network classes differ only in terms of the names of the method responsible for the forward pass of the computation. In pyTorch, it is named `forward` and in Tensorflow, it is `__call__`.\n",
    "\n",
    "### pyTorch"
   ]
  },
  {
   "cell_type": "code",
   "execution_count": 27,
   "id": "2cd4a220-e4cd-4402-9366-27e6436c9bd7",
   "metadata": {},
   "outputs": [
    {
     "name": "stdout",
     "output_type": "stream",
     "text": [
      "tensor([[0.4143]], grad_fn=<SigmoidBackward>)\n"
     ]
    }
   ],
   "source": [
    "import numpy as np \n",
    "import torch \n",
    "from torch.autograd import Variable \n",
    "import torch.nn as nn \n",
    "import torch.nn.functional as F \n",
    "\n",
    "class NNet(nn.Module): \n",
    "\n",
    "    def __init__(self): \n",
    "        super().__init__()\n",
    "        # It takes row vectors of dimension 2 \n",
    "        self.lin = nn.Linear(2,1) \n",
    "    \n",
    "    def forward(self, x): \n",
    "        return F.sigmoid(self.lin(x)) \n",
    "\n",
    "net_pt = NNet() \n",
    "x = Variable(torch.Tensor([[1,0]])) \n",
    "print(net_pt(x))"
   ]
  },
  {
   "cell_type": "markdown",
   "id": "3948d08c-01f9-4bec-916d-3ad10ded64ac",
   "metadata": {},
   "source": [
    "### Tensorflow"
   ]
  },
  {
   "cell_type": "code",
   "execution_count": 28,
   "id": "591d2985-50d6-409b-8ecb-e7e9747b48e3",
   "metadata": {},
   "outputs": [
    {
     "name": "stdout",
     "output_type": "stream",
     "text": [
      "tf.Tensor([[0.27110904]], shape=(1, 1), dtype=float32)\n"
     ]
    }
   ],
   "source": [
    "import tensorflow as tf\n",
    "from tensorflow.keras.layers import Dense\n",
    "\n",
    "\n",
    "class NNet(tf.Module):    \n",
    "    def __init__(self):\n",
    "        super().__init__()\n",
    "        self.dense_layer = Dense(1, activation='sigmoid')\n",
    "    \n",
    "    def __call__(self, input):\n",
    "        dense_output = self.dense_layer(input)\n",
    "        return dense_output\n",
    "\n",
    "net_tf = NNet()\n",
    "input = tf.Variable([[1., 0.]])\n",
    "print(net_tf(input))"
   ]
  },
  {
   "cell_type": "markdown",
   "id": "539a4706-30aa-4ca5-ba7e-a09f86dc06c0",
   "metadata": {},
   "source": [
    "The `Linear` layer in pyTorch or the `Dense` layer in Tensorflow contains some hidden variables that we call `the network parameters`. During the training process, these variables adjust to the \"correct\" value to produce the desired output for any given input. It is possible to see the network parameters in both pyTorch and Tensorflow."
   ]
  },
  {
   "cell_type": "code",
   "execution_count": 29,
   "id": "abfb6d5e-7c91-43ae-a47a-39ac871eaf38",
   "metadata": {},
   "outputs": [
    {
     "data": {
      "text/html": [
       "<strong>Parameters for the pytorch network:</strong>"
      ],
      "text/plain": [
       "<IPython.core.display.HTML object>"
      ]
     },
     "metadata": {},
     "output_type": "display_data"
    },
    {
     "name": "stdout",
     "output_type": "stream",
     "text": [
      "Parameter containing:\n",
      "tensor([[-0.2532,  0.0336]], requires_grad=True)\n",
      "Parameter containing:\n",
      "tensor([-0.0931], requires_grad=True)\n"
     ]
    },
    {
     "data": {
      "text/html": [
       "<strong>Parameters for the Tensorflow network:</strong>"
      ],
      "text/plain": [
       "<IPython.core.display.HTML object>"
      ]
     },
     "metadata": {},
     "output_type": "display_data"
    },
    {
     "name": "stdout",
     "output_type": "stream",
     "text": [
      "tf.Tensor(\n",
      "[[-0.98900306]\n",
      " [-0.95361185]], shape=(2, 1), dtype=float32)\n",
      "tf.Tensor([0.], shape=(1,), dtype=float32)\n"
     ]
    }
   ],
   "source": [
    "display(HTML(\"<strong>Parameters for the pytorch network:</strong>\"))\n",
    "for a_param in net_pt.parameters():\n",
    "    print(a_param)\n",
    "\n",
    "display(HTML(\"<strong>Parameters for the Tensorflow network:</strong>\"))\n",
    "for a_param in net_tf.variables:\n",
    "    print(a_param.value())"
   ]
  },
  {
   "cell_type": "markdown",
   "id": "9bdd27ac-29ca-4c9a-9d52-4f1949218f2a",
   "metadata": {},
   "source": [
    "Noteably, one of the parameters contain the same dimensionality as the input, and the other parameter has the dimensionality of 1. The first parameter (the one with dim. 2, let's say $\\mathbf{w}$) is multiplied with the input and the other one (with dim 1, say $b$) is added to the product. Together, they form a decision line in the 2-dimensional space. The parameter $\\mathbf{w}$ is the slope of the decision line, and $b$ is the intercept."
   ]
  },
  {
   "cell_type": "markdown",
   "id": "c99cd023-2289-426d-b14a-79aba5407d09",
   "metadata": {},
   "source": [
    "## Training the Neural Network\n",
    "\n",
    "We implemented the forward operation through the neuron. But it is an untrained neuron, so it didn't provide the correct answer. We want to train it so that it can correctly work as an or gate. To conduct the training, we need the following two things:\n",
    "1. We need some data to train on. In the data, we'll provide some randomly generated `input` and the desired `output`. This format of training is called supervised training.\n",
    "2. We need to decide upon a `loss` for providing a wrong answer. Then we'll minimize the loss using gradient descent\n",
    "\n",
    "### pyTorch"
   ]
  },
  {
   "cell_type": "code",
   "execution_count": 30,
   "id": "3f7ac5cc-fa6d-446e-a800-8f7d6451f768",
   "metadata": {},
   "outputs": [
    {
     "name": "stdout",
     "output_type": "stream",
     "text": [
      "input: [[1. 1.]] actual output should be: 1.0 net output: 0.4224436 loss: [0.33357137]\n",
      "input: [[1. 0.]] actual output should be: 1.0 net output: 0.7927758 loss: [0.04294186]\n",
      "input: [[0. 0.]] actual output should be: 0.0 net output: 0.3441535 loss: [0.11844163]\n",
      "input: [[0. 0.]] actual output should be: 0.0 net output: 0.32363033 loss: [0.10473659]\n",
      "input: [[1. 1.]] actual output should be: 1.0 net output: 0.9884291 loss: [0.00013389]\n",
      "input: [[1. 1.]] actual output should be: 1.0 net output: 0.99303657 loss: [4.8489383e-05]\n",
      "input: [[1. 1.]] actual output should be: 1.0 net output: 0.9948999 loss: [2.6010728e-05]\n",
      "input: [[1. 0.]] actual output should be: 1.0 net output: 0.8913145 loss: [0.01181254]\n",
      "input: [[0. 1.]] actual output should be: 1.0 net output: 0.89949 loss: [0.01010226]\n",
      "input: [[1. 0.]] actual output should be: 1.0 net output: 0.9045768 loss: [0.00910559]\n",
      "input: [[0. 1.]] actual output should be: 1.0 net output: 0.9028158 loss: [0.00944476]\n",
      "input: [[1. 1.]] actual output should be: 1.0 net output: 0.99832755 loss: [2.797078e-06]\n",
      "input: [[1. 0.]] actual output should be: 1.0 net output: 0.915335 loss: [0.00716816]\n",
      "input: [[0. 1.]] actual output should be: 1.0 net output: 0.9164175 loss: [0.00698604]\n",
      "input: [[1. 1.]] actual output should be: 1.0 net output: 0.99898833 loss: [1.0234754e-06]\n",
      "input: [[0. 1.]] actual output should be: 1.0 net output: 0.9225074 loss: [0.0060051]\n",
      "input: [[0. 0.]] actual output should be: 0.0 net output: 0.12250129 loss: [0.01500657]\n",
      "input: [[0. 1.]] actual output should be: 1.0 net output: 0.93121684 loss: [0.00473112]\n",
      "input: [[1. 0.]] actual output should be: 1.0 net output: 0.9332289 loss: [0.00445838]\n",
      "input: [[1. 0.]] actual output should be: 1.0 net output: 0.9359124 loss: [0.00410722]\n",
      "input: [[0. 0.]] actual output should be: 0.0 net output: 0.10534413 loss: [0.01109739]\n",
      "input: [[1. 0.]] actual output should be: 1.0 net output: 0.9400578 loss: [0.00359307]\n",
      "input: [[1. 0.]] actual output should be: 1.0 net output: 0.9407823 loss: [0.00350673]\n",
      "input: [[1. 1.]] actual output should be: 1.0 net output: 0.99959725 loss: [1.6220642e-07]\n",
      "input: [[1. 0.]] actual output should be: 1.0 net output: 0.94321203 loss: [0.00322487]\n",
      "input: [[0. 0.]] actual output should be: 0.0 net output: 0.09464347 loss: [0.00895739]\n",
      "input: [[0. 1.]] actual output should be: 1.0 net output: 0.9478829 loss: [0.00271619]\n",
      "input: [[1. 0.]] actual output should be: 1.0 net output: 0.947267 loss: [0.00278077]\n",
      "input: [[1. 0.]] actual output should be: 1.0 net output: 0.94698244 loss: [0.00281086]\n",
      "input: [[0. 0.]] actual output should be: 0.0 net output: 0.08342303 loss: [0.0069594]\n",
      "input: [[0. 1.]] actual output should be: 1.0 net output: 0.95180947 loss: [0.00232233]\n",
      "input: [[0. 1.]] actual output should be: 1.0 net output: 0.9518362 loss: [0.00231975]\n",
      "input: [[1. 0.]] actual output should be: 1.0 net output: 0.9513123 loss: [0.00237049]\n",
      "input: [[0. 1.]] actual output should be: 1.0 net output: 0.95387655 loss: [0.00212737]\n",
      "input: [[0. 1.]] actual output should be: 1.0 net output: 0.95402366 loss: [0.00211382]\n",
      "input: [[1. 1.]] actual output should be: 1.0 net output: 0.9998129 loss: [3.500603e-08]\n",
      "input: [[1. 0.]] actual output should be: 1.0 net output: 0.95462406 loss: [0.00205898]\n",
      "input: [[1. 0.]] actual output should be: 1.0 net output: 0.9555129 loss: [0.0019791]\n",
      "input: [[0. 0.]] actual output should be: 0.0 net output: 0.07197043 loss: [0.00517974]\n",
      "input: [[0. 0.]] actual output should be: 0.0 net output: 0.07071962 loss: [0.00500127]\n",
      "input: [[0. 0.]] actual output should be: 0.0 net output: 0.07002544 loss: [0.00490356]\n",
      "input: [[1. 0.]] actual output should be: 1.0 net output: 0.9574944 loss: [0.00180673]\n",
      "input: [[1. 1.]] actual output should be: 1.0 net output: 0.99985886 loss: [1.9921572e-08]\n",
      "input: [[1. 1.]] actual output should be: 1.0 net output: 0.99986327 loss: [1.8695928e-08]\n",
      "input: [[0. 1.]] actual output should be: 1.0 net output: 0.9578232 loss: [0.00177888]\n",
      "input: [[1. 1.]] actual output should be: 1.0 net output: 0.9998734 loss: [1.6027627e-08]\n",
      "input: [[0. 1.]] actual output should be: 1.0 net output: 0.9589114 loss: [0.00168827]\n",
      "input: [[0. 0.]] actual output should be: 0.0 net output: 0.06403258 loss: [0.00410017]\n",
      "input: [[1. 0.]] actual output should be: 1.0 net output: 0.96092784 loss: [0.00152663]\n",
      "input: [[1. 1.]] actual output should be: 1.0 net output: 0.99989533 loss: [1.09549205e-08]\n"
     ]
    }
   ],
   "source": [
    "import torch.optim as optim\n",
    "\n",
    "optimizer = optim.SGD(net_pt.parameters(), lr=0.33)\n",
    "for i in range(5000):\n",
    "    input_v = (np.random.rand(1,2)>0.5).astype(float)\n",
    "    output_v = np.any(input_v).astype(float)\n",
    "    \n",
    "    net_output = net_pt(Variable(torch.Tensor(input_v)))\n",
    "    loss = (Variable(torch.Tensor([output_v]))-net_output)**2\n",
    "    \n",
    "    if i % 100 == 0:\n",
    "        print('input:', input_v, 'actual output should be:', output_v,'net output:', net_output.data.numpy()[0,0], 'loss:', loss.data.numpy()[0])\n",
    "    loss.backward()\n",
    "    optimizer.step()\n",
    "    net_pt.zero_grad()\n"
   ]
  },
  {
   "cell_type": "markdown",
   "id": "f0e9ddef-92d2-4217-831d-c03c2ee27758",
   "metadata": {},
   "source": [
    "### Tensorflow"
   ]
  },
  {
   "cell_type": "code",
   "execution_count": 31,
   "id": "ce7ab62e-d98f-406f-885f-4342ca7be222",
   "metadata": {},
   "outputs": [
    {
     "name": "stdout",
     "output_type": "stream",
     "text": [
      "input: [[1. 1.]] actual output should be: 1.0 net output: 0.12536086 loss: 0.76499367\n",
      "input: [[1. 1.]] actual output should be: 1.0 net output: 0.8935084 loss: 0.011340466\n",
      "input: [[1. 0.]] actual output should be: 1.0 net output: 0.8026694 loss: 0.03893936\n",
      "input: [[1. 0.]] actual output should be: 1.0 net output: 0.8411904 loss: 0.02522049\n",
      "input: [[1. 0.]] actual output should be: 1.0 net output: 0.8211873 loss: 0.031973977\n",
      "input: [[0. 1.]] actual output should be: 1.0 net output: 0.8441539 loss: 0.024288015\n",
      "input: [[1. 1.]] actual output should be: 1.0 net output: 0.99340314 loss: 4.3518605e-05\n",
      "input: [[0. 0.]] actual output should be: 0.0 net output: 0.17051609 loss: 0.029075736\n",
      "input: [[0. 1.]] actual output should be: 1.0 net output: 0.8808591 loss: 0.014194559\n",
      "input: [[0. 0.]] actual output should be: 0.0 net output: 0.17428093 loss: 0.030373842\n",
      "input: [[0. 1.]] actual output should be: 1.0 net output: 0.9096322 loss: 0.008166338\n",
      "input: [[0. 0.]] actual output should be: 0.0 net output: 0.15301871 loss: 0.023414727\n",
      "input: [[1. 1.]] actual output should be: 1.0 net output: 0.99860615 loss: 1.9428305e-06\n",
      "input: [[0. 1.]] actual output should be: 1.0 net output: 0.92205215 loss: 0.0060758684\n",
      "input: [[1. 0.]] actual output should be: 1.0 net output: 0.9244567 loss: 0.0057067876\n",
      "input: [[0. 0.]] actual output should be: 0.0 net output: 0.13260244 loss: 0.017583407\n",
      "input: [[0. 0.]] actual output should be: 0.0 net output: 0.12779233 loss: 0.01633088\n",
      "input: [[0. 0.]] actual output should be: 0.0 net output: 0.11397248 loss: 0.012989725\n",
      "input: [[0. 1.]] actual output should be: 1.0 net output: 0.9318881 loss: 0.00463923\n",
      "input: [[1. 0.]] actual output should be: 1.0 net output: 0.93307006 loss: 0.0044796164\n",
      "input: [[0. 1.]] actual output should be: 1.0 net output: 0.9371203 loss: 0.003953854\n",
      "input: [[1. 0.]] actual output should be: 1.0 net output: 0.93562084 loss: 0.004144676\n",
      "input: [[0. 1.]] actual output should be: 1.0 net output: 0.9399919 loss: 0.003600973\n",
      "input: [[1. 1.]] actual output should be: 1.0 net output: 0.9995648 loss: 1.8937598e-07\n",
      "input: [[0. 0.]] actual output should be: 0.0 net output: 0.09522949 loss: 0.009068656\n",
      "input: [[1. 0.]] actual output should be: 1.0 net output: 0.9413838 loss: 0.0034358613\n",
      "input: [[1. 0.]] actual output should be: 1.0 net output: 0.9438132 loss: 0.003156956\n",
      "input: [[1. 1.]] actual output should be: 1.0 net output: 0.99967897 loss: 1.0306066e-07\n",
      "input: [[0. 1.]] actual output should be: 1.0 net output: 0.9427612 loss: 0.0032762822\n",
      "input: [[0. 1.]] actual output should be: 1.0 net output: 0.94559586 loss: 0.0029598102\n",
      "input: [[1. 1.]] actual output should be: 1.0 net output: 0.9997309 loss: 7.242287e-08\n",
      "input: [[1. 1.]] actual output should be: 1.0 net output: 0.99975735 loss: 5.8879266e-08\n",
      "input: [[1. 1.]] actual output should be: 1.0 net output: 0.9997614 loss: 5.6928712e-08\n",
      "input: [[1. 0.]] actual output should be: 1.0 net output: 0.95339715 loss: 0.0021718252\n",
      "input: [[0. 0.]] actual output should be: 0.0 net output: 0.076020345 loss: 0.0057790927\n",
      "input: [[1. 0.]] actual output should be: 1.0 net output: 0.95405483 loss: 0.0021109586\n",
      "input: [[1. 1.]] actual output should be: 1.0 net output: 0.99981004 loss: 3.6084803e-08\n",
      "input: [[0. 1.]] actual output should be: 1.0 net output: 0.9540493 loss: 0.002111468\n",
      "input: [[0. 1.]] actual output should be: 1.0 net output: 0.95441705 loss: 0.0020778053\n",
      "input: [[0. 1.]] actual output should be: 1.0 net output: 0.95464414 loss: 0.0020571537\n",
      "input: [[0. 0.]] actual output should be: 0.0 net output: 0.069146946 loss: 0.0047813\n",
      "input: [[1. 0.]] actual output should be: 1.0 net output: 0.9574999 loss: 0.0018062566\n",
      "input: [[1. 0.]] actual output should be: 1.0 net output: 0.958678 loss: 0.0017075072\n",
      "input: [[0. 1.]] actual output should be: 1.0 net output: 0.95788753 loss: 0.0017734601\n",
      "input: [[1. 0.]] actual output should be: 1.0 net output: 0.9613028 loss: 0.0014974719\n",
      "input: [[0. 0.]] actual output should be: 0.0 net output: 0.067297585 loss: 0.0045289653\n",
      "input: [[1. 1.]] actual output should be: 1.0 net output: 0.9998796 loss: 1.4496493e-08\n",
      "input: [[0. 0.]] actual output should be: 0.0 net output: 0.064399794 loss: 0.0041473336\n",
      "input: [[0. 0.]] actual output should be: 0.0 net output: 0.06283798 loss: 0.0039486117\n",
      "input: [[0. 1.]] actual output should be: 1.0 net output: 0.95937717 loss: 0.0016502143\n"
     ]
    }
   ],
   "source": [
    "optim = tf.optimizers.SGD(learning_rate=0.33)\n",
    "for i in range(5000):\n",
    "    in_v = tf.Variable((np.random.rand(1,2)>0.5).astype(np.float32))\n",
    "    out_v = tf.Variable(np.any(in_v).astype(np.float32))\n",
    "    \n",
    "    with tf.GradientTape() as tape:\n",
    "        net_output = net_tf(in_v)\n",
    "        # We are manually computing the squared error loss.\n",
    "        # It is possible to use built in functions instead.\n",
    "        loss = tf.reduce_mean((net_output - out_v) ** 2)\n",
    "    \n",
    "    loss_grad = tape.gradient(loss, net_tf.trainable_variables)    \n",
    "\n",
    "    if i % 100 == 0:\n",
    "        print('input:', in_v.numpy(), 'actual output should be:', out_v.numpy(),'net output:', net_output.numpy()[0,0], 'loss:', loss.numpy())\n",
    "    \n",
    "    # Take a gradient descent update\n",
    "    optim.apply_gradients(zip(loss_grad, net_tf.trainable_variables))\n"
   ]
  },
  {
   "cell_type": "markdown",
   "id": "29bfbbd2-6ce5-4f70-9faf-4978b4b5b007",
   "metadata": {},
   "source": [
    "Let us check the network parameters again"
   ]
  },
  {
   "cell_type": "code",
   "execution_count": 32,
   "id": "b5c818e7-3e9a-4349-903f-7b2bd76629ea",
   "metadata": {},
   "outputs": [
    {
     "data": {
      "text/html": [
       "<strong>Parameters for the pytorch network:</strong>"
      ],
      "text/plain": [
       "<IPython.core.display.HTML object>"
      ]
     },
     "metadata": {},
     "output_type": "display_data"
    },
    {
     "name": "stdout",
     "output_type": "stream",
     "text": [
      "Parameter containing:\n",
      "tensor([[5.9700, 5.9464]], requires_grad=True)\n",
      "Parameter containing:\n",
      "tensor([-2.7211], requires_grad=True)\n"
     ]
    },
    {
     "data": {
      "text/html": [
       "<strong>Parameters for the Tensorflow network:</strong>"
      ],
      "text/plain": [
       "<IPython.core.display.HTML object>"
      ]
     },
     "metadata": {},
     "output_type": "display_data"
    },
    {
     "name": "stdout",
     "output_type": "stream",
     "text": [
      "tf.Tensor(\n",
      "[[5.951059]\n",
      " [5.923201]], shape=(2, 1), dtype=float32)\n",
      "tf.Tensor([-2.740663], shape=(1,), dtype=float32)\n"
     ]
    }
   ],
   "source": [
    "display(HTML(\"<strong>Parameters for the pytorch network:</strong>\"))\n",
    "param_pt = []\n",
    "for a_param in net_pt.parameters():\n",
    "    param_pt.append(a_param.data.numpy())\n",
    "    print(a_param)\n",
    "\n",
    "param_tf = []\n",
    "display(HTML(\"<strong>Parameters for the Tensorflow network:</strong>\"))\n",
    "for a_param in net_tf.variables:\n",
    "    param_tf.append(a_param.numpy())\n",
    "    print(a_param.value())"
   ]
  },
  {
   "cell_type": "markdown",
   "id": "3a02c28d-b9a9-4aa6-abf3-3681c95adf40",
   "metadata": {},
   "source": [
    "So, in this case, the decision surface (A 2-d surface is a line) for the trained pyTorch and Tensorflow model is :\n",
    "\n",
    "$$ wX^T + b = 0 $$\n",
    "\n",
    "In the following figures, the decision surface is plotted for both models. Have you noticed how the points (0,1), (1,0), and (1,1) are located in one side of the decision line but the point (0,0) is located on the other side? This is the working principle of a neural network when working as a classifier. During the training process, the internal parameters are adjusted so that the different classes of datapoints at located at different sides of the surface. There are many techniques for optimizing the loss, adjusting the learning rate, terminating the loop for training a neural network. But the core underlying principle is just the same."
   ]
  },
  {
   "cell_type": "code",
   "execution_count": 33,
   "id": "82b2009d-94db-4dbe-9eb9-a7ef8a89b0fe",
   "metadata": {},
   "outputs": [
    {
     "data": {
      "image/png": "[encoded data removed]",
      "text/plain": [
       "<Figure size 640x480 with 1 Axes>"
      ]
     },
     "metadata": {},
     "output_type": "display_data"
    },
    {
     "data": {
      "text/html": [
       "Decision Boundary of pyTorch Model"
      ],
      "text/plain": [
       "<IPython.core.display.HTML object>"
      ]
     },
     "metadata": {},
     "output_type": "display_data"
    }
   ],
   "source": [
    "import matplotlib.pyplot as plt\n",
    "import numpy as np\n",
    "\n",
    "delta = 0.002\n",
    "xrange = np.arange(-1.0, 2.0, delta)\n",
    "yrange = np.arange(-1.0, 2.0, delta)\n",
    "X, Y = np.meshgrid(xrange,yrange)\n",
    "\n",
    "plt.contour(X, Y, param_pt[0][0,0]*X + param_pt[0][0,1]*Y + np.array(param_pt[1]), [0])\n",
    "plt.scatter([0,0,1,1], [0,1,0,1])\n",
    "plt.grid('both')\n",
    "plt.show()\n",
    "display(HTML(\"Decision Boundary of pyTorch Model\"))"
   ]
  },
  {
   "cell_type": "code",
   "execution_count": 34,
   "id": "9c08dd63-7c21-42db-a1da-583b5482cf2e",
   "metadata": {},
   "outputs": [
    {
     "data": {
      "image/png": "[encoded data removed]",
      "text/plain": [
       "<Figure size 640x480 with 1 Axes>"
      ]
     },
     "metadata": {},
     "output_type": "display_data"
    },
    {
     "data": {
      "text/html": [
       "Decision Boundary of Tensorflow Model"
      ],
      "text/plain": [
       "<IPython.core.display.HTML object>"
      ]
     },
     "metadata": {},
     "output_type": "display_data"
    }
   ],
   "source": [
    "plt.contour(X, Y, param_tf[0][0,0]*X + param_tf[0][1,0]*Y + np.array(param_tf[1]), [0])\n",
    "plt.scatter([0,0,1,1], [0,1,0,1])\n",
    "plt.grid('both')\n",
    "plt.show()\n",
    "display(HTML(\"Decision Boundary of Tensorflow Model\"))"
   ]
  },
  {
   "cell_type": "markdown",
   "id": "456d66db-7055-4306-bd78-3d5ef98e730e",
   "metadata": {},
   "source": [
    "## How about `xor` gate?\n",
    "\n",
    "At this point you might be wondering about how the neural net will perform for an xor gate. There is no straight line in the 2-d space that can separate out the positive and negative classes in this case. Fortunately, the decision surface doesn't have to be straight line. By arbitrarily increasing the number of neurons (e.g. the number of model parameters), it is possible to make the dicision surface arbitrarily distorted. Play with the number of neurons in the [neural network playground](https://playground.tensorflow.org/#activation=tanh&batchSize=10&dataset=xor&regDataset=reg-plane&learningRate=0.03&regularizationRate=0&noise=0&networkShape=4,2&seed=0.49581&showTestData=false&discretize=false&percTrainData=50&x=true&y=true&xTimesY=false&xSquared=false&ySquared=false&cosX=false&sinX=false&cosY=false&sinY=false&collectStats=false&problem=classification&initZero=false&hideText=false) to see how the decision surface changes."
   ]
  }
 ],
 "metadata": {
  "kernelspec": {
   "display_name": "Python 3 (ipykernel)",
   "language": "python",
   "name": "python3"
  },
  "language_info": {
   "codemirror_mode": {
    "name": "ipython",
    "version": 3
   },
   "file_extension": ".py",
   "mimetype": "text/x-python",
   "name": "python",
   "nbconvert_exporter": "python",
   "pygments_lexer": "ipython3",
   "version": "3.8.5"
  }
 },
 "nbformat": 4,
 "nbformat_minor": 5
}
