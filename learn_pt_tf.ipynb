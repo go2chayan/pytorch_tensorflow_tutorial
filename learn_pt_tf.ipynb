{
 "cells": [
  {
   "cell_type": "code",
   "execution_count": 19,
   "id": "0b0cebef-926c-485b-b430-cf1242711df5",
   "metadata": {
    "tags": []
   },
   "outputs": [],
   "source": [
    "from IPython.display import HTML, display, Math"
   ]
  },
  {
   "cell_type": "markdown",
   "id": "57593cc0-f2e3-4953-815a-c6369f1442bf",
   "metadata": {},
   "source": [
    "# Learn pyTorch and Tensorflow Simultaneously"
   ]
  },
  {
   "cell_type": "markdown",
   "id": "bf5a3ad4-454d-4eb2-aa2c-f48c422fa6a9",
   "metadata": {},
   "source": [
    "If you are interested in machine learning and can't decide whether to learn [pyTorch](https://pytorch.org/) or [Tensorflow](https://www.tensorflow.org/), this is an article for you. Why should we fall for the hassel of learning one then migrating to other when needed, when it is possible to learn both simultaneously?\n",
    "\n",
    "From version 2.0, coding experience for Tensorflow is becoming more and more like pyTorch---thanks to the introduction of Gradient tape. Following this tutorial, you can quickly become profecient in both pyTorch and Tensorflow."
   ]
  },
  {
   "cell_type": "markdown",
   "id": "eb0082ec-6fa1-4acb-a275-dc6ef16cdac6",
   "metadata": {},
   "source": [
    "## Tape-based Graient Computation\n",
    "“Wengert list” [1] is a natural way to compute the numeric values of full or partial derivatives of an algebraic function without developing the analytical expression of the derivatives."
   ]
  },
  {
   "cell_type": "code",
   "execution_count": 20,
   "id": "c1ea1b10-1e1b-4cd9-9b6c-ed02a19d2496",
   "metadata": {
    "jupyter": {
     "source_hidden": true
    },
    "tags": []
   },
   "outputs": [
    {
     "data": {
      "text/html": [
       "<img src=\"https://www.dropbox.com/s/hgmguh7ieuxxszs/magnetic-tape.png?dl=1\" width=400>"
      ],
      "text/plain": [
       "<IPython.core.display.HTML object>"
      ]
     },
     "execution_count": 20,
     "metadata": {},
     "output_type": "execute_result"
    }
   ],
   "source": [
    "HTML('<img src=\"https://www.dropbox.com/s/hgmguh7ieuxxszs/magnetic-tape.png?dl=1\" width=400>')"
   ]
  },
  {
   "cell_type": "markdown",
   "id": "c44dd4b9-f9b5-4f16-bad0-146773e44689",
   "metadata": {},
   "source": [
    "* It works like a magnetic tape that records the mathematical operations that are applied to some variables. This enables efficient implementation of backpropagation algorithms along an arbitrary directed acyclic graph (DAG) of mathematical operations\n",
    "* It is implemented as “Autograd” in pyTorch, and as “GradientTape” in tensorflow\n",
    "* Tape-based architecture is conceptually closer to the mathematical formulations used by researchers (as opposed to layer architecture which is conceptually closer to software engineers)\n",
    "* The concept of tape is almost identical for pyTorch and TensorFlow and thus enables easier transition of code from research to production\n",
    "* For pyTorch, it enables implementation of dynamic neural networks (i.e. networks that can change its architecture in training or inference time based on the data)\n",
    "* For Tensorflow, it enables automatic construction of computation graphs from python code which leads to extremely fast computation with/without specialized hardware (e.g. GPU, TPU)\n",
    "\n",
    "[1] R.E. Wengert (1964). \"A simple automatic derivative evaluation program\". Comm. ACM. 7 (8): 463–464."
   ]
  },
  {
   "cell_type": "markdown",
   "id": "0fe73a8d-5432-44e3-bce1-e79292f38cbf",
   "metadata": {},
   "source": [
    "## Computing the Gradient\n",
    "Computing the [gradient](https://en.wikipedia.org/wiki/Gradient) of a vector is the fundamental operation that takes place in neural networks and many other machine learning techniques that adopt [gradient decent](https://en.wikipedia.org/wiki/Gradient_descent) or similar optimization approaches. Let’s revise the concept through an example:\n",
    "\n",
    "Let's assume $x = \\left[x_1, x_2, x_3\\right]^T$ is a three dimentional vector. What is the gradient of $z=x^Tx$?"
   ]
  },
  {
   "cell_type": "code",
   "execution_count": 21,
   "id": "4ff425a8-365e-4303-9485-a846517932e6",
   "metadata": {
    "jupyter": {
     "source_hidden": true
    },
    "tags": []
   },
   "outputs": [
    {
     "data": {
      "text/latex": [
       "$\\displaystyle \n",
       "z = \\begin{bmatrix}x_{1}, x_{2}, x_{3}\\end{bmatrix}\\begin{bmatrix}x_{1} \\\\x_{2} \\\\x_{3}\\end{bmatrix} = x_1^2+x_2^2+x_3^2 \\quad\\quad \n",
       "    \\text{so,}\n",
       "    \\nabla_x z = \\begin{bmatrix}\\frac{\\partial z}{\\partial x_{1}} \\\\\\frac{\\partial z}{\\partial x_{2}} \\\\\\frac{\\partial z}{\\partial x_{3}}\\end{bmatrix} = 2x\n",
       "  $"
      ],
      "text/plain": [
       "<IPython.core.display.Math object>"
      ]
     },
     "metadata": {},
     "output_type": "display_data"
    }
   ],
   "source": [
    "display(Math(r\"\"\"\n",
    "z = \\begin{bmatrix}x_{1}, x_{2}, x_{3}\\end{bmatrix}\\begin{bmatrix}x_{1} \\\\x_{2} \\\\x_{3}\\end{bmatrix} = x_1^2+x_2^2+x_3^2 \\quad\\quad \n",
    "    \\text{so,}\n",
    "    \\nabla_x z = \\begin{bmatrix}\\frac{\\partial z}{\\partial x_{1}} \\\\\\frac{\\partial z}{\\partial x_{2}} \\\\\\frac{\\partial z}{\\partial x_{3}}\\end{bmatrix} = 2x\n",
    "  \"\"\"))"
   ]
  },
  {
   "cell_type": "markdown",
   "id": "74581570-926d-4c93-aa89-5cb8b39961f3",
   "metadata": {},
   "source": [
    "## Automatic Computation of Gradients\n",
    "In pyTorch, variables already include a tape. So, they remember the mathematical operations as long as “requires_grad” is set to true. This enables automatic gradient calculation"
   ]
  },
  {
   "cell_type": "code",
   "execution_count": 22,
   "id": "8b0f4c1b-5a7c-4bfe-bcf0-2219b682b69d",
   "metadata": {
    "tags": []
   },
   "outputs": [
    {
     "name": "stdout",
     "output_type": "stream",
     "text": [
      "tensor([1., 2., 3.], requires_grad=True) tensor([1., 4., 9.], grad_fn=<PowBackward0>) tensor(14., grad_fn=<SumBackward0>)\n",
      "tensor([2., 4., 6.])\n"
     ]
    }
   ],
   "source": [
    "import torch\n",
    "from torch.autograd import Variable \n",
    "\n",
    "x = Variable(torch.Tensor([1,2,3]), requires_grad=True)\n",
    "y = x**2\n",
    "z = y.sum()\n",
    "print(x, y, z) \n",
    "\n",
    "# It is necessary to remember the mathematical operations\n",
    "# to compute the gradients. We start back propagation \n",
    "# from z and want the gradient w.r.t. x\n",
    "z.backward()\n",
    "print(x.grad) \n",
    "\n",
    "# Using GPU\n",
    "x = x.cuda(0)"
   ]
  },
  {
   "cell_type": "markdown",
   "id": "eeb98f89-c83d-441e-8e12-487aa8668fa0",
   "metadata": {},
   "source": [
    "In Tensorflow 2.x, the same is done with the help of GradientTape"
   ]
  },
  {
   "cell_type": "code",
   "execution_count": 23,
   "id": "22cadd2d-d63e-4b8a-8f08-aa128f5a24f1",
   "metadata": {},
   "outputs": [
    {
     "name": "stdout",
     "output_type": "stream",
     "text": [
      "tf.Tensor([2. 4. 6.], shape=(3,), dtype=float32)\n",
      "tf.Tensor([2. 4. 6.], shape=(3,), dtype=float32)\n"
     ]
    }
   ],
   "source": [
    "import tensorflow as tf\n",
    "\n",
    "x = tf.Variable([1.0, 2.0, 3.0]) \n",
    "x_tensor = tf.convert_to_tensor([1.0, 2.0, 3.0]) \n",
    "\n",
    "# Tensorflow Variables automatically gets attached to the tape \n",
    "with tf.GradientTape() as tape: \n",
    "    y = x ** 2\n",
    "    z = tf.math.reduce_sum(y) \n",
    "\n",
    "# If it is a tensor, you need to manually attach it to the tape \n",
    "# by calling the watch function \n",
    "with tf.GradientTape() as tape2: \n",
    "    tape2.watch(x_tensor) # attaching the tensor to the tape \n",
    "    y_tensor = x_tensor ** 2\n",
    "    z_tensor = tf.math.reduce_sum(y_tensor) \n",
    "\n",
    "grad = tape.gradient(z, x) \n",
    "grad_tensor = tape2.gradient(z_tensor,x_tensor) \n",
    "print(grad) \n",
    "print(grad_tensor) \n"
   ]
  },
  {
   "cell_type": "markdown",
   "id": "a6a26871-e059-4944-98d0-e69def0d6c27",
   "metadata": {},
   "source": [
    "## Gradient Descent\n",
    "Gradient descent is an algorithm to find the optima (e.g. minima or maxima) of a function. Let’s see the algorithm in action:"
   ]
  },
  {
   "cell_type": "code",
   "execution_count": 24,
   "id": "27fbd30e-bbed-44ce-98f9-f3f0130fac0e",
   "metadata": {
    "jupyter": {
     "source_hidden": true
    },
    "tags": []
   },
   "outputs": [
    {
     "data": {
      "text/html": [
       "<img src=\"https://www.dropbox.com/s/5bm62eqdveo9h5g/pytorch_tensorflow_tutorial_1.gif?dl=1\">"
      ],
      "text/plain": [
       "<IPython.core.display.HTML object>"
      ]
     },
     "execution_count": 24,
     "metadata": {},
     "output_type": "execute_result"
    }
   ],
   "source": [
    "HTML('<img src=\"https://www.dropbox.com/s/5bm62eqdveo9h5g/pytorch_tensorflow_tutorial_1.gif?dl=1\">')"
   ]
  },
  {
   "cell_type": "markdown",
   "id": "d65ea928-e1ea-4f8f-a404-2f0f21506eb6",
   "metadata": {},
   "source": [
    "## Implementing Gradient Descent\n",
    "\n",
    "### pyTorch"
   ]
  },
  {
   "cell_type": "code",
   "execution_count": 25,
   "id": "22d67063-f95b-4635-923e-2165efa0aad6",
   "metadata": {},
   "outputs": [
    {
     "name": "stdout",
     "output_type": "stream",
     "text": [
      "tensor([-5.5000,  5.5000], requires_grad=True)\n",
      "tensor([-1.2500,  4.2500])\n",
      "tensor([0.8750, 3.6250])\n",
      "tensor([1.9375, 3.3125])\n",
      "tensor([2.4688, 3.1562])\n",
      "tensor([2.7344, 3.0781])\n"
     ]
    }
   ],
   "source": [
    "import torch\n",
    "from torch.autograd import Variable \n",
    "\n",
    "x = Variable(torch.Tensor([-5.5, 5.5]), requires_grad=True) \n",
    "print(x) \n",
    "for i in range(5):    \n",
    "    # Also try some other complicated functions of x\n",
    "    y = (x-3)**2\n",
    "    z = y.sum()\n",
    "    z.backward()\n",
    "    out = x.data - 0.25*x.grad.data\n",
    "    print(out)\n",
    "    x = Variable(out, requires_grad=True)"
   ]
  },
  {
   "cell_type": "markdown",
   "id": "3dc20811-047d-45b7-974c-3c10025dcad2",
   "metadata": {},
   "source": [
    "### Tensorflow"
   ]
  },
  {
   "cell_type": "code",
   "execution_count": 26,
   "id": "05a48c7c-5450-4d5b-bf62-c4fc89cc4765",
   "metadata": {},
   "outputs": [
    {
     "name": "stdout",
     "output_type": "stream",
     "text": [
      "<tf.Variable 'Variable:0' shape=(2,) dtype=float32, numpy=array([-5.5,  3. ], dtype=float32)>\n",
      "tf.Tensor([-17.   0.], shape=(2,), dtype=float32)\n",
      "tf.Tensor([-1.25  3.  ], shape=(2,), dtype=float32)\n",
      "tf.Tensor([-8.5  0. ], shape=(2,), dtype=float32)\n",
      "tf.Tensor([0.875 3.   ], shape=(2,), dtype=float32)\n",
      "tf.Tensor([-4.25  0.  ], shape=(2,), dtype=float32)\n",
      "tf.Tensor([1.9375 3.    ], shape=(2,), dtype=float32)\n",
      "tf.Tensor([-2.125  0.   ], shape=(2,), dtype=float32)\n",
      "tf.Tensor([2.46875 3.     ], shape=(2,), dtype=float32)\n",
      "tf.Tensor([-1.0625  0.    ], shape=(2,), dtype=float32)\n",
      "tf.Tensor([2.734375 3.      ], shape=(2,), dtype=float32)\n"
     ]
    }
   ],
   "source": [
    "import tensorflow as tf\n",
    "\n",
    "x = tf.Variable([-5.5, 3.]) \n",
    "print(x) \n",
    "\n",
    "for i in range(5): \n",
    "    with tf.GradientTape() as tape: \n",
    "        tape.watch(x) \n",
    "        y = (x - 3) ** 2. \n",
    "        z = tf.reduce_sum(y) \n",
    "        dz_dx = tape.gradient(z, x) \n",
    "        print(dz_dx) \n",
    "        # Update parameter \n",
    "        x = x - 0.25*dz_dx \n",
    "        print(x)"
   ]
  },
  {
   "cell_type": "markdown",
   "id": "daddcaa7-c213-4bd2-a59c-464656bfa2c8",
   "metadata": {},
   "source": [
    "## Implementing a simple neuron\n",
    "\n",
    "Let us implement an `or gate` using a simple neuron. The neuron must take two numbers (each can be either 0 or 1) and produce the logical `OR` operation between the output. The beauty of a neural network is that we do not need to explicitely tell it how to actually do the computation. We'll just provide the inputs and the outputs; the network will automatically figure out what to do with the input to produce the correct output.\n",
    "\n",
    "The mathematical formulation of the neuron is shown below."
   ]
  },
  {
   "cell_type": "code",
   "execution_count": 27,
   "id": "0f5f39f9-9921-4548-abde-ceabea927190",
   "metadata": {
    "jupyter": {
     "source_hidden": true
    },
    "tags": []
   },
   "outputs": [
    {
     "data": {
      "text/html": [
       "<img src=\"https://www.dropbox.com/s/a6zb23eu3dhaj9y/Simple_neuron_1.png?dl=1\">"
      ],
      "text/plain": [
       "<IPython.core.display.HTML object>"
      ]
     },
     "execution_count": 27,
     "metadata": {},
     "output_type": "execute_result"
    }
   ],
   "source": [
    "HTML('<img src=\"https://www.dropbox.com/s/a6zb23eu3dhaj9y/Simple_neuron_1.png?dl=1\">')"
   ]
  },
  {
   "cell_type": "markdown",
   "id": "30f73f94-f826-4f7f-b09c-71479236a217",
   "metadata": {},
   "source": [
    "In the following code snippets, notice how similar pyTorch and Tensorflow codes are. The neural network classes differ only in terms of the names of the method responsible for the forward pass of the computation. In pyTorch, it is named `forward` and in Tensorflow, it is `__call__`.\n",
    "\n",
    "### pyTorch"
   ]
  },
  {
   "cell_type": "code",
   "execution_count": 28,
   "id": "2cd4a220-e4cd-4402-9366-27e6436c9bd7",
   "metadata": {},
   "outputs": [
    {
     "name": "stdout",
     "output_type": "stream",
     "text": [
      "tensor([[0.5249]], grad_fn=<SigmoidBackward>)\n"
     ]
    },
    {
     "name": "stderr",
     "output_type": "stream",
     "text": [
      "/home/itanveer/miniconda3/lib/python3.8/site-packages/torch/nn/functional.py:1639: UserWarning: nn.functional.sigmoid is deprecated. Use torch.sigmoid instead.\n",
      "  warnings.warn(\"nn.functional.sigmoid is deprecated. Use torch.sigmoid instead.\")\n"
     ]
    }
   ],
   "source": [
    "import numpy as np \n",
    "import torch \n",
    "from torch.autograd import Variable \n",
    "import torch.nn as nn \n",
    "import torch.nn.functional as F \n",
    "\n",
    "class NNet(nn.Module): \n",
    "\n",
    "    def __init__(self): \n",
    "        super().__init__()\n",
    "        # It takes row vectors of dimension 2 \n",
    "        self.lin = nn.Linear(2,1) \n",
    "    \n",
    "    def forward(self, x): \n",
    "        return F.sigmoid(self.lin(x)) \n",
    "\n",
    "net_pt = NNet() \n",
    "x = Variable(torch.Tensor([[1,0]])) \n",
    "print(net_pt(x))"
   ]
  },
  {
   "cell_type": "markdown",
   "id": "3948d08c-01f9-4bec-916d-3ad10ded64ac",
   "metadata": {},
   "source": [
    "### Tensorflow"
   ]
  },
  {
   "cell_type": "code",
   "execution_count": 29,
   "id": "591d2985-50d6-409b-8ecb-e7e9747b48e3",
   "metadata": {},
   "outputs": [
    {
     "name": "stdout",
     "output_type": "stream",
     "text": [
      "tf.Tensor([[0.56875646]], shape=(1, 1), dtype=float32)\n"
     ]
    }
   ],
   "source": [
    "import tensorflow as tf\n",
    "from tensorflow.keras.layers import Dense\n",
    "\n",
    "\n",
    "class NNet(tf.Module):    \n",
    "    def __init__(self):\n",
    "        super().__init__()\n",
    "        self.dense_layer = Dense(1, activation='sigmoid')\n",
    "    \n",
    "    def __call__(self, input):\n",
    "        dense_output = self.dense_layer(input)\n",
    "        return dense_output\n",
    "\n",
    "net_tf = NNet()\n",
    "input = tf.Variable([[1., 0.]])\n",
    "print(net_tf(input))"
   ]
  },
  {
   "cell_type": "markdown",
   "id": "539a4706-30aa-4ca5-ba7e-a09f86dc06c0",
   "metadata": {},
   "source": [
    "The `Linear` layer in pyTorch or the `Dense` layer in Tensorflow contains some hidden variables that we call `the network parameters`. During the training process, these variables adjust to the \"correct\" value to produce the desired output for any given input. It is possible to see the network parameters in both pyTorch and Tensorflow."
   ]
  },
  {
   "cell_type": "code",
   "execution_count": 30,
   "id": "abfb6d5e-7c91-43ae-a47a-39ac871eaf38",
   "metadata": {},
   "outputs": [
    {
     "data": {
      "text/html": [
       "<strong>Parameters for the pytorch network:</strong>"
      ],
      "text/plain": [
       "<IPython.core.display.HTML object>"
      ]
     },
     "metadata": {},
     "output_type": "display_data"
    },
    {
     "name": "stdout",
     "output_type": "stream",
     "text": [
      "Parameter containing:\n",
      "tensor([[-0.4549, -0.0280]], requires_grad=True)\n",
      "Parameter containing:\n",
      "tensor([0.5545], requires_grad=True)\n"
     ]
    },
    {
     "data": {
      "text/html": [
       "<strong>Parameters for the Tensorflow network:</strong>"
      ],
      "text/plain": [
       "<IPython.core.display.HTML object>"
      ]
     },
     "metadata": {},
     "output_type": "display_data"
    },
    {
     "name": "stdout",
     "output_type": "stream",
     "text": [
      "tf.Tensor(\n",
      "[[0.2767794 ]\n",
      " [0.80405676]], shape=(2, 1), dtype=float32)\n",
      "tf.Tensor([0.], shape=(1,), dtype=float32)\n"
     ]
    }
   ],
   "source": [
    "display(HTML(\"<strong>Parameters for the pytorch network:</strong>\"))\n",
    "for a_param in net_pt.parameters():\n",
    "    print(a_param)\n",
    "\n",
    "display(HTML(\"<strong>Parameters for the Tensorflow network:</strong>\"))\n",
    "for a_param in net_tf.variables:\n",
    "    print(a_param.value())"
   ]
  },
  {
   "cell_type": "markdown",
   "id": "9bdd27ac-29ca-4c9a-9d52-4f1949218f2a",
   "metadata": {},
   "source": [
    "Noteably, one of the parameters contain the same dimensionality as the input, and the other parameter has the dimensionality of 1. The first parameter (the one with dim. 2, let's say $\\mathbf{w}$) is multiplied with the input and the other one (with dim 1, say $b$) is added to the product. Together, they form a decision line in the 2-dimensional space. The parameter $\\mathbf{w}$ is the slope of the decision line, and $b$ is the intercept."
   ]
  },
  {
   "cell_type": "markdown",
   "id": "c99cd023-2289-426d-b14a-79aba5407d09",
   "metadata": {},
   "source": [
    "## Training the Neural Network\n",
    "\n",
    "We implemented the forward operation through the neuron. But it is an untrained neuron, so it didn't provide the correct answer. We want to train it so that it can correctly work as an or gate. To conduct the training, we need the following two things:\n",
    "1. We need some data to train on. In the data, we'll provide some randomly generated `input` and the desired `output`. This format of training is called supervised training.\n",
    "2. We need to decide upon a `loss` for providing a wrong answer. Then we'll minimize the loss using gradient descent\n",
    "\n",
    "### pyTorch"
   ]
  },
  {
   "cell_type": "code",
   "execution_count": 31,
   "id": "3f7ac5cc-fa6d-446e-a800-8f7d6451f768",
   "metadata": {},
   "outputs": [
    {
     "name": "stdout",
     "output_type": "stream",
     "text": [
      "input: [[0. 0.]] actual output should be: 0.0 net output: 0.6351855 loss: [0.4034606]\n",
      "input: [[1. 0.]] actual output should be: 1.0 net output: 0.7306729 loss: [0.07253709]\n",
      "input: [[1. 0.]] actual output should be: 1.0 net output: 0.7623612 loss: [0.05647219]\n",
      "input: [[1. 1.]] actual output should be: 1.0 net output: 0.9767066 loss: [0.00054258]\n",
      "input: [[1. 1.]] actual output should be: 1.0 net output: 0.9875339 loss: [0.0001554]\n",
      "input: [[1. 1.]] actual output should be: 1.0 net output: 0.99190044 loss: [6.5602806e-05]\n",
      "input: [[1. 1.]] actual output should be: 1.0 net output: 0.99425584 loss: [3.2995365e-05]\n",
      "input: [[0. 1.]] actual output should be: 1.0 net output: 0.8796006 loss: [0.01449602]\n",
      "input: [[1. 0.]] actual output should be: 1.0 net output: 0.9003631 loss: [0.00992751]\n",
      "input: [[1. 1.]] actual output should be: 1.0 net output: 0.9978138 loss: [4.779379e-06]\n",
      "input: [[0. 1.]] actual output should be: 1.0 net output: 0.89913225 loss: [0.0101743]\n",
      "input: [[1. 0.]] actual output should be: 1.0 net output: 0.91470844 loss: [0.00727465]\n",
      "input: [[0. 0.]] actual output should be: 0.0 net output: 0.14669107 loss: [0.02151827]\n",
      "input: [[0. 1.]] actual output should be: 1.0 net output: 0.91816604 loss: [0.0066968]\n",
      "input: [[1. 0.]] actual output should be: 1.0 net output: 0.91987836 loss: [0.00641948]\n",
      "input: [[1. 0.]] actual output should be: 1.0 net output: 0.92764616 loss: [0.00523508]\n",
      "input: [[0. 1.]] actual output should be: 1.0 net output: 0.9311463 loss: [0.00474083]\n",
      "input: [[0. 0.]] actual output should be: 0.0 net output: 0.12346693 loss: [0.01524408]\n",
      "input: [[0. 1.]] actual output should be: 1.0 net output: 0.9343597 loss: [0.00430865]\n",
      "input: [[0. 0.]] actual output should be: 0.0 net output: 0.11156422 loss: [0.01244657]\n",
      "input: [[0. 0.]] actual output should be: 0.0 net output: 0.10957936 loss: [0.01200764]\n",
      "input: [[1. 0.]] actual output should be: 1.0 net output: 0.9356428 loss: [0.00414185]\n",
      "input: [[0. 0.]] actual output should be: 0.0 net output: 0.101348855 loss: [0.01027159]\n",
      "input: [[1. 1.]] actual output should be: 1.0 net output: 0.99957186 loss: [1.83304e-07]\n",
      "input: [[1. 0.]] actual output should be: 1.0 net output: 0.9429835 loss: [0.00325088]\n",
      "input: [[1. 0.]] actual output should be: 1.0 net output: 0.9426629 loss: [0.00328754]\n",
      "input: [[0. 0.]] actual output should be: 0.0 net output: 0.09226355 loss: [0.00851256]\n",
      "input: [[1. 1.]] actual output should be: 1.0 net output: 0.9996799 loss: [1.0244925e-07]\n",
      "input: [[1. 0.]] actual output should be: 1.0 net output: 0.9474848 loss: [0.00275785]\n",
      "input: [[0. 1.]] actual output should be: 1.0 net output: 0.9507537 loss: [0.0024252]\n",
      "input: [[0. 1.]] actual output should be: 1.0 net output: 0.95064604 loss: [0.00243581]\n",
      "input: [[0. 1.]] actual output should be: 1.0 net output: 0.9506507 loss: [0.00243535]\n",
      "input: [[0. 1.]] actual output should be: 1.0 net output: 0.9511862 loss: [0.00238279]\n",
      "input: [[1. 1.]] actual output should be: 1.0 net output: 0.99978405 loss: [4.6633378e-08]\n",
      "input: [[0. 0.]] actual output should be: 0.0 net output: 0.081835695 loss: [0.00669708]\n",
      "input: [[1. 0.]] actual output should be: 1.0 net output: 0.9555808 loss: [0.00197307]\n",
      "input: [[1. 0.]] actual output should be: 1.0 net output: 0.9548806 loss: [0.00203576]\n",
      "input: [[1. 0.]] actual output should be: 1.0 net output: 0.95634097 loss: [0.00190611]\n",
      "input: [[1. 1.]] actual output should be: 1.0 net output: 0.9998282 loss: [2.950857e-08]\n",
      "input: [[1. 1.]] actual output should be: 1.0 net output: 0.9998387 loss: [2.6014519e-08]\n",
      "input: [[1. 1.]] actual output should be: 1.0 net output: 0.99984336 loss: [2.4536405e-08]\n",
      "input: [[1. 0.]] actual output should be: 1.0 net output: 0.95773023 loss: [0.00178673]\n",
      "input: [[0. 1.]] actual output should be: 1.0 net output: 0.95748585 loss: [0.00180745]\n",
      "input: [[0. 1.]] actual output should be: 1.0 net output: 0.9590171 loss: [0.0016796]\n",
      "input: [[1. 1.]] actual output should be: 1.0 net output: 0.9998678 loss: [1.747766e-08]\n",
      "input: [[0. 0.]] actual output should be: 0.0 net output: 0.065853804 loss: [0.00433672]\n",
      "input: [[1. 1.]] actual output should be: 1.0 net output: 0.9998741 loss: [1.5847036e-08]\n",
      "input: [[0. 0.]] actual output should be: 0.0 net output: 0.062369797 loss: [0.00388999]\n",
      "input: [[0. 1.]] actual output should be: 1.0 net output: 0.9591871 loss: [0.00166569]\n",
      "input: [[0. 0.]] actual output should be: 0.0 net output: 0.062352765 loss: [0.00388787]\n"
     ]
    }
   ],
   "source": [
    "import torch.optim as optim\n",
    "\n",
    "optimizer = optim.SGD(net_pt.parameters(), lr=0.33)\n",
    "for i in range(5000):\n",
    "    input_v = (np.random.rand(1,2)>0.5).astype(float)\n",
    "    output_v = np.any(input_v).astype(float)\n",
    "    \n",
    "    net_output = net_pt(Variable(torch.Tensor(input_v)))\n",
    "    loss = (Variable(torch.Tensor([output_v]))-net_output)**2\n",
    "    \n",
    "    if i % 100 == 0:\n",
    "        print('input:', input_v, 'actual output should be:', output_v,'net output:', net_output.data.numpy()[0,0], 'loss:', loss.data.numpy()[0])\n",
    "    loss.backward()\n",
    "    optimizer.step()\n",
    "    net_pt.zero_grad()\n"
   ]
  },
  {
   "cell_type": "markdown",
   "id": "f0e9ddef-92d2-4217-831d-c03c2ee27758",
   "metadata": {},
   "source": [
    "### Tensorflow"
   ]
  },
  {
   "cell_type": "code",
   "execution_count": 32,
   "id": "ce7ab62e-d98f-406f-885f-4342ca7be222",
   "metadata": {},
   "outputs": [
    {
     "name": "stdout",
     "output_type": "stream",
     "text": [
      "input: [[1. 1.]] actual output should be: 1.0 net output: 0.7466522 loss: 0.06418511\n",
      "input: [[1. 0.]] actual output should be: 1.0 net output: 0.69581217 loss: 0.092530236\n",
      "input: [[1. 0.]] actual output should be: 1.0 net output: 0.81200117 loss: 0.03534356\n",
      "input: [[0. 0.]] actual output should be: 0.0 net output: 0.28317806 loss: 0.08018982\n",
      "input: [[1. 1.]] actual output should be: 1.0 net output: 0.99101686 loss: 8.0696715e-05\n",
      "input: [[1. 1.]] actual output should be: 1.0 net output: 0.99350303 loss: 4.2210562e-05\n",
      "input: [[0. 1.]] actual output should be: 1.0 net output: 0.88556486 loss: 0.0130954\n",
      "input: [[1. 0.]] actual output should be: 1.0 net output: 0.8936931 loss: 0.011301159\n",
      "input: [[1. 1.]] actual output should be: 1.0 net output: 0.99692696 loss: 9.4435545e-06\n",
      "input: [[1. 1.]] actual output should be: 1.0 net output: 0.9976241 loss: 5.644904e-06\n",
      "input: [[1. 1.]] actual output should be: 1.0 net output: 0.99805826 loss: 3.7703562e-06\n",
      "input: [[1. 0.]] actual output should be: 1.0 net output: 0.9024557 loss: 0.009514893\n",
      "input: [[1. 0.]] actual output should be: 1.0 net output: 0.91502863 loss: 0.007220133\n",
      "input: [[0. 0.]] actual output should be: 0.0 net output: 0.12648834 loss: 0.0159993\n",
      "input: [[0. 1.]] actual output should be: 1.0 net output: 0.92412686 loss: 0.0057567325\n",
      "input: [[0. 1.]] actual output should be: 1.0 net output: 0.93476623 loss: 0.0042554443\n",
      "input: [[0. 0.]] actual output should be: 0.0 net output: 0.12216663 loss: 0.0149246855\n",
      "input: [[1. 1.]] actual output should be: 1.0 net output: 0.9993424 loss: 4.3246146e-07\n",
      "input: [[1. 1.]] actual output should be: 1.0 net output: 0.9994118 loss: 3.459541e-07\n",
      "input: [[1. 1.]] actual output should be: 1.0 net output: 0.9994406 loss: 3.129167e-07\n",
      "input: [[1. 0.]] actual output should be: 1.0 net output: 0.93831074 loss: 0.0038055643\n",
      "input: [[0. 0.]] actual output should be: 0.0 net output: 0.10026281 loss: 0.010052632\n",
      "input: [[1. 1.]] actual output should be: 1.0 net output: 0.9995697 loss: 1.8514599e-07\n",
      "input: [[0. 0.]] actual output should be: 0.0 net output: 0.09570772 loss: 0.009159968\n",
      "input: [[0. 0.]] actual output should be: 0.0 net output: 0.09201533 loss: 0.008466821\n",
      "input: [[1. 0.]] actual output should be: 1.0 net output: 0.94526005 loss: 0.0029964624\n",
      "input: [[1. 0.]] actual output should be: 1.0 net output: 0.94602615 loss: 0.0029131768\n",
      "input: [[1. 0.]] actual output should be: 1.0 net output: 0.9487213 loss: 0.0026295062\n",
      "input: [[1. 1.]] actual output should be: 1.0 net output: 0.99973434 loss: 7.057412e-08\n",
      "input: [[0. 1.]] actual output should be: 1.0 net output: 0.95104146 loss: 0.0023969384\n",
      "input: [[0. 1.]] actual output should be: 1.0 net output: 0.94976336 loss: 0.0025237203\n",
      "input: [[0. 0.]] actual output should be: 0.0 net output: 0.08145825 loss: 0.0066354466\n",
      "input: [[1. 0.]] actual output should be: 1.0 net output: 0.95397604 loss: 0.0021182054\n",
      "input: [[1. 1.]] actual output should be: 1.0 net output: 0.9997968 loss: 4.128708e-08\n",
      "input: [[1. 0.]] actual output should be: 1.0 net output: 0.9569674 loss: 0.0018518034\n",
      "input: [[0. 0.]] actual output should be: 0.0 net output: 0.077101424 loss: 0.0059446297\n",
      "input: [[0. 0.]] actual output should be: 0.0 net output: 0.075495616 loss: 0.005699588\n",
      "input: [[1. 1.]] actual output should be: 1.0 net output: 0.99983454 loss: 2.7377837e-08\n",
      "input: [[1. 0.]] actual output should be: 1.0 net output: 0.9571736 loss: 0.0018341016\n",
      "input: [[0. 0.]] actual output should be: 0.0 net output: 0.0690787 loss: 0.004771867\n",
      "input: [[0. 0.]] actual output should be: 0.0 net output: 0.06955458 loss: 0.00483784\n",
      "input: [[0. 0.]] actual output should be: 0.0 net output: 0.07085738 loss: 0.005020769\n",
      "input: [[0. 1.]] actual output should be: 1.0 net output: 0.95798576 loss: 0.0017651964\n",
      "input: [[1. 0.]] actual output should be: 1.0 net output: 0.9604796 loss: 0.0015618607\n",
      "input: [[0. 1.]] actual output should be: 1.0 net output: 0.95993316 loss: 0.0016053515\n",
      "input: [[0. 0.]] actual output should be: 0.0 net output: 0.06650427 loss: 0.004422818\n",
      "input: [[1. 1.]] actual output should be: 1.0 net output: 0.9998847 loss: 1.3288413e-08\n",
      "input: [[1. 0.]] actual output should be: 1.0 net output: 0.96271706 loss: 0.0013900179\n",
      "input: [[0. 0.]] actual output should be: 0.0 net output: 0.06457939 loss: 0.0041704974\n",
      "input: [[0. 0.]] actual output should be: 0.0 net output: 0.062824436 loss: 0.00394691\n"
     ]
    }
   ],
   "source": [
    "optim = tf.optimizers.SGD(learning_rate=0.33)\n",
    "for i in range(5000):\n",
    "    in_v = tf.Variable((np.random.rand(1,2)>0.5).astype(np.float32))\n",
    "    out_v = tf.Variable(np.any(in_v).astype(np.float32))\n",
    "    \n",
    "    with tf.GradientTape() as tape:\n",
    "        net_output = net_tf(in_v)\n",
    "        # We are manually computing the squared error loss.\n",
    "        # It is possible to use built in functions instead.\n",
    "        loss = tf.reduce_mean((net_output - out_v) ** 2)\n",
    "    \n",
    "    loss_grad = tape.gradient(loss, net_tf.trainable_variables)    \n",
    "\n",
    "    if i % 100 == 0:\n",
    "        print('input:', in_v.numpy(), 'actual output should be:', out_v.numpy(),'net output:', net_output.numpy()[0,0], 'loss:', loss.numpy())\n",
    "    \n",
    "    # Take a gradient descent update\n",
    "    optim.apply_gradients(zip(loss_grad, net_tf.trainable_variables))\n"
   ]
  },
  {
   "cell_type": "markdown",
   "id": "29bfbbd2-6ce5-4f70-9faf-4978b4b5b007",
   "metadata": {},
   "source": [
    "Let us check the network parameters again"
   ]
  },
  {
   "cell_type": "code",
   "execution_count": 33,
   "id": "b5c818e7-3e9a-4349-903f-7b2bd76629ea",
   "metadata": {},
   "outputs": [
    {
     "data": {
      "text/html": [
       "<strong>Parameters for the pytorch network:</strong>"
      ],
      "text/plain": [
       "<IPython.core.display.HTML object>"
      ]
     },
     "metadata": {},
     "output_type": "display_data"
    },
    {
     "name": "stdout",
     "output_type": "stream",
     "text": [
      "Parameter containing:\n",
      "tensor([[5.9448, 5.9170]], requires_grad=True)\n",
      "Parameter containing:\n",
      "tensor([-2.7278], requires_grad=True)\n"
     ]
    },
    {
     "data": {
      "text/html": [
       "<strong>Parameters for the Tensorflow network:</strong>"
      ],
      "text/plain": [
       "<IPython.core.display.HTML object>"
      ]
     },
     "metadata": {},
     "output_type": "display_data"
    },
    {
     "name": "stdout",
     "output_type": "stream",
     "text": [
      "tf.Tensor(\n",
      "[[5.983771 ]\n",
      " [5.9199176]], shape=(2, 1), dtype=float32)\n",
      "tf.Tensor([-2.712736], shape=(1,), dtype=float32)\n"
     ]
    }
   ],
   "source": [
    "display(HTML(\"<strong>Parameters for the pytorch network:</strong>\"))\n",
    "param_pt = []\n",
    "for a_param in net_pt.parameters():\n",
    "    param_pt.append(a_param.data.numpy())\n",
    "    print(a_param)\n",
    "\n",
    "param_tf = []\n",
    "display(HTML(\"<strong>Parameters for the Tensorflow network:</strong>\"))\n",
    "for a_param in net_tf.variables:\n",
    "    param_tf.append(a_param.numpy())\n",
    "    print(a_param.value())"
   ]
  },
  {
   "cell_type": "markdown",
   "id": "3a02c28d-b9a9-4aa6-abf3-3681c95adf40",
   "metadata": {},
   "source": [
    "So, in this case, the decision surface (A 2-d surface is a line) for the trained pyTorch and Tensorflow model is :\n",
    "\n",
    "$$ wX^T + b = 0 $$\n",
    "\n",
    "In the following figures, the decision surface is plotted for both models. Have you noticed how the points (0,1), (1,0), and (1,1) are located in one side of the decision line but the point (0,0) is located on the other side? This is the working principle of a neural network when working as a classifier. During the training process, the internal parameters are adjusted so that the different classes of datapoints at located at different sides of the surface. There are many techniques for optimizing the loss, adjusting the learning rate, terminating the loop for training a neural network. But the core underlying principle is just the same."
   ]
  },
  {
   "cell_type": "code",
   "execution_count": 34,
   "id": "82b2009d-94db-4dbe-9eb9-a7ef8a89b0fe",
   "metadata": {},
   "outputs": [
    {
     "data": {
      "image/png": "[encoded data removed]",
      "text/plain": [
       "<Figure size 640x480 with 1 Axes>"
      ]
     },
     "metadata": {},
     "output_type": "display_data"
    },
    {
     "data": {
      "text/html": [
       "Decision Boundary of pyTorch Model"
      ],
      "text/plain": [
       "<IPython.core.display.HTML object>"
      ]
     },
     "metadata": {},
     "output_type": "display_data"
    }
   ],
   "source": [
    "import matplotlib.pyplot as plt\n",
    "import numpy as np\n",
    "\n",
    "delta = 0.002\n",
    "xrange = np.arange(-1.0, 2.0, delta)\n",
    "yrange = np.arange(-1.0, 2.0, delta)\n",
    "X, Y = np.meshgrid(xrange,yrange)\n",
    "\n",
    "plt.contour(X, Y, param_pt[0][0,0]*X + param_pt[0][0,1]*Y + np.array(param_pt[1]), [0])\n",
    "plt.scatter([0,0,1,1], [0,1,0,1])\n",
    "plt.grid('both')\n",
    "plt.show()\n",
    "display(HTML(\"Decision Boundary of pyTorch Model\"))"
   ]
  },
  {
   "cell_type": "code",
   "execution_count": 35,
   "id": "9c08dd63-7c21-42db-a1da-583b5482cf2e",
   "metadata": {},
   "outputs": [
    {
     "data": {
      "image/png": "[encoded data removed]",
      "text/plain": [
       "<Figure size 640x480 with 1 Axes>"
      ]
     },
     "metadata": {},
     "output_type": "display_data"
    },
    {
     "data": {
      "text/html": [
       "Decision Boundary of Tensorflow Model"
      ],
      "text/plain": [
       "<IPython.core.display.HTML object>"
      ]
     },
     "metadata": {},
     "output_type": "display_data"
    }
   ],
   "source": [
    "plt.contour(X, Y, param_tf[0][0,0]*X + param_tf[0][1,0]*Y + np.array(param_tf[1]), [0])\n",
    "plt.scatter([0,0,1,1], [0,1,0,1])\n",
    "plt.grid('both')\n",
    "plt.show()\n",
    "display(HTML(\"Decision Boundary of Tensorflow Model\"))"
   ]
  },
  {
   "cell_type": "markdown",
   "id": "456d66db-7055-4306-bd78-3d5ef98e730e",
   "metadata": {},
   "source": [
    "## How about `xor` gate?\n",
    "\n",
    "At this point you might be wondering about how the neural net will perform for an xor gate. There is no straight line in the 2-d space that can separate out the positive and negative classes in this case. Fortunately, the decision surface doesn't have to be straight line. By arbitrarily increasing the number of neurons (e.g. the number of model parameters), it is possible to make the dicision surface arbitrarily distorted. Play with the number of neurons in the [neural network playground](https://playground.tensorflow.org/#activation=tanh&batchSize=10&dataset=xor&regDataset=reg-plane&learningRate=0.03&regularizationRate=0&noise=0&networkShape=4,2&seed=0.49581&showTestData=false&discretize=false&percTrainData=50&x=true&y=true&xTimesY=false&xSquared=false&ySquared=false&cosX=false&sinX=false&cosY=false&sinY=false&collectStats=false&problem=classification&initZero=false&hideText=false) to see how the decision surface changes."
   ]
  }
 ],
 "metadata": {
  "kernelspec": {
   "display_name": "Python 3 (ipykernel)",
   "language": "python",
   "name": "python3"
  },
  "language_info": {
   "codemirror_mode": {
    "name": "ipython",
    "version": 3
   },
   "file_extension": ".py",
   "mimetype": "text/x-python",
   "name": "python",
   "nbconvert_exporter": "python",
   "pygments_lexer": "ipython3",
   "version": "3.8.5"
  }
 },
 "nbformat": 4,
 "nbformat_minor": 5
}
