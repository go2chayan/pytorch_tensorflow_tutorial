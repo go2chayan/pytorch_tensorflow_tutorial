{
 "cells": [
  {
   "cell_type": "code",
   "execution_count": 20,
   "id": "0b0cebef-926c-485b-b430-cf1242711df5",
   "metadata": {
    "tags": []
   },
   "outputs": [],
   "source": [
    "from IPython.display import HTML, display, Math\n",
    "import warnings\n",
    "warnings.filterwarnings('ignore')"
   ]
  },
  {
   "cell_type": "markdown",
   "id": "57593cc0-f2e3-4953-815a-c6369f1442bf",
   "metadata": {},
   "source": [
    "# Learn pyTorch and Tensorflow Simultaneously"
   ]
  },
  {
   "cell_type": "markdown",
   "id": "bf5a3ad4-454d-4eb2-aa2c-f48c422fa6a9",
   "metadata": {},
   "source": [
    "If you are interested in machine learning and can't decide whether to learn [pyTorch](https://pytorch.org/) or [Tensorflow](https://www.tensorflow.org/), this is an article for you. Why should we fall for the hassel of learning one then migrating to another, when we can possibly learn both at once?\n",
    "\n",
    "From version 2.0, Tensorflow's coding experience started to be much similar to pyTorch---thanks to the introduction of Gradient tape. Following this series of tutorials, you can quickly become profecient in both pyTorch and Tensorflow."
   ]
  },
  {
   "cell_type": "markdown",
   "id": "eb0082ec-6fa1-4acb-a275-dc6ef16cdac6",
   "metadata": {},
   "source": [
    "## Tape-based Graient Computation\n",
    "“Wengert list” [1] is a natural way to compute the numeric values of full or partial derivatives of an algebraic function without developing the analytical expression of the derivatives."
   ]
  },
  {
   "cell_type": "code",
   "execution_count": 21,
   "id": "c1ea1b10-1e1b-4cd9-9b6c-ed02a19d2496",
   "metadata": {
    "tags": []
   },
   "outputs": [
    {
     "data": {
      "text/html": [
       "<img src=\"https://www.dropbox.com/s/hgmguh7ieuxxszs/magnetic-tape.png?dl=1\" width=400>"
      ],
      "text/plain": [
       "<IPython.core.display.HTML object>"
      ]
     },
     "execution_count": 21,
     "metadata": {},
     "output_type": "execute_result"
    }
   ],
   "source": [
    "HTML('<img src=\"https://www.dropbox.com/s/hgmguh7ieuxxszs/magnetic-tape.png?dl=1\" width=400>')"
   ]
  },
  {
   "cell_type": "markdown",
   "id": "c44dd4b9-f9b5-4f16-bad0-146773e44689",
   "metadata": {},
   "source": [
    "* It works like a magnetic tape that records the mathematical operations that are applied to some variables. This enables efficient implementation of backpropagation algorithms along an arbitrary directed acyclic graph (DAG) of mathematical operations\n",
    "* It is implemented as “Autograd” in pyTorch, and as “GradientTape” in tensorflow\n",
    "* Tape-based architecture is conceptually closer to the mathematical formulations used by researchers (as opposed to layer architecture which is conceptually closer to software engineers)\n",
    "* The concept of tape is almost identical for pyTorch and TensorFlow and thus enables easier transition of code from research to production\n",
    "* For pyTorch, it enables implementation of dynamic neural networks (i.e. networks that can change its architecture in training or inference time based on the data)\n",
    "* For Tensorflow, it enables automatic construction of computation graphs from python code which leads to extremely fast computation with/without specialized hardware (e.g. GPU, TPU)\n",
    "\n",
    "[1] R.E. Wengert (1964). \"A simple automatic derivative evaluation program\". Comm. ACM. 7 (8): 463–464."
   ]
  },
  {
   "cell_type": "markdown",
   "id": "0fe73a8d-5432-44e3-bce1-e79292f38cbf",
   "metadata": {},
   "source": [
    "## Computing the Gradient\n",
    "Computing the [gradient](https://en.wikipedia.org/wiki/Gradient) of a vector is the fundamental operation that takes place in neural networks and many other machine learning techniques that adopt [gradient decent](https://en.wikipedia.org/wiki/Gradient_descent) or similar optimization approaches. Let’s revise the concept through an example:\n",
    "\n",
    "Let's assume $x = \\left[x_1, x_2, x_3\\right]^T$ is a three dimentional vector. What is the gradient of $z=x^Tx$?"
   ]
  },
  {
   "cell_type": "code",
   "execution_count": 22,
   "id": "4ff425a8-365e-4303-9485-a846517932e6",
   "metadata": {
    "tags": []
   },
   "outputs": [
    {
     "data": {
      "text/latex": [
       "$\\displaystyle \n",
       "z = \\begin{bmatrix}x_{1}, x_{2}, x_{3}\\end{bmatrix}\\begin{bmatrix}x_{1} \\\\x_{2} \\\\x_{3}\\end{bmatrix} = x_1^2+x_2^2+x_3^2 \\quad\\quad \n",
       "    \\text{so,}\n",
       "    \\nabla_x z = \\begin{bmatrix}\\frac{\\partial z}{\\partial x_{1}} \\\\\\frac{\\partial z}{\\partial x_{2}} \\\\\\frac{\\partial z}{\\partial x_{3}}\\end{bmatrix} = 2x\n",
       "  $"
      ],
      "text/plain": [
       "<IPython.core.display.Math object>"
      ]
     },
     "metadata": {},
     "output_type": "display_data"
    }
   ],
   "source": [
    "display(Math(r\"\"\"\n",
    "z = \\begin{bmatrix}x_{1}, x_{2}, x_{3}\\end{bmatrix}\\begin{bmatrix}x_{1} \\\\x_{2} \\\\x_{3}\\end{bmatrix} = x_1^2+x_2^2+x_3^2 \\quad\\quad \n",
    "    \\text{so,}\n",
    "    \\nabla_x z = \\begin{bmatrix}\\frac{\\partial z}{\\partial x_{1}} \\\\\\frac{\\partial z}{\\partial x_{2}} \\\\\\frac{\\partial z}{\\partial x_{3}}\\end{bmatrix} = 2x\n",
    "  \"\"\"))"
   ]
  },
  {
   "cell_type": "markdown",
   "id": "74581570-926d-4c93-aa89-5cb8b39961f3",
   "metadata": {},
   "source": [
    "# Automatic Computation of Gradients\n",
    "In pyTorch, variables already include a tape. So, they remember the mathematical operations as long as “requires_grad” is set to true. This enables automatic gradient calculation"
   ]
  },
  {
   "cell_type": "code",
   "execution_count": 23,
   "id": "8b0f4c1b-5a7c-4bfe-bcf0-2219b682b69d",
   "metadata": {
    "tags": []
   },
   "outputs": [
    {
     "name": "stdout",
     "output_type": "stream",
     "text": [
      "tensor([1., 2., 3.], requires_grad=True) tensor([1., 4., 9.], grad_fn=<PowBackward0>) tensor(14., grad_fn=<SumBackward0>)\n",
      "tensor([2., 4., 6.])\n"
     ]
    }
   ],
   "source": [
    "import torch\n",
    "from torch.autograd import Variable \n",
    "\n",
    "x = Variable(torch.Tensor([1,2,3]), requires_grad=True)\n",
    "y = x**2\n",
    "z = y.sum()\n",
    "print(x, y, z) \n",
    "\n",
    "# It is necessary to remember the mathematical operations\n",
    "# to compute the gradients. We start back propagation \n",
    "# from z and want the gradient w.r.t. x\n",
    "z.backward()\n",
    "print(x.grad) \n",
    "\n",
    "# Using GPU\n",
    "x = x.cuda(0)"
   ]
  },
  {
   "cell_type": "markdown",
   "id": "eeb98f89-c83d-441e-8e12-487aa8668fa0",
   "metadata": {},
   "source": [
    "In Tensorflow 2.x, the same is done with the help of GradientTape"
   ]
  },
  {
   "cell_type": "code",
   "execution_count": 24,
   "id": "22cadd2d-d63e-4b8a-8f08-aa128f5a24f1",
   "metadata": {},
   "outputs": [
    {
     "name": "stdout",
     "output_type": "stream",
     "text": [
      "tf.Tensor([2. 4. 6.], shape=(3,), dtype=float32)\n",
      "tf.Tensor([2. 4. 6.], shape=(3,), dtype=float32)\n"
     ]
    }
   ],
   "source": [
    "import tensorflow as tf\n",
    "\n",
    "x = tf.Variable([1.0, 2.0, 3.0]) \n",
    "x_tensor = tf.convert_to_tensor([1.0, 2.0, 3.0]) \n",
    "\n",
    "# Tensorflow Variables automatically gets attached to the tape \n",
    "with tf.GradientTape() as tape: \n",
    "    y = x ** 2\n",
    "    z = tf.math.reduce_sum(y) \n",
    "\n",
    "# If it is a tensor, you need to manually attach it to the tape \n",
    "# by calling the watch function \n",
    "with tf.GradientTape() as tape2: \n",
    "    tape2.watch(x_tensor) # attaching the tensor to the tape \n",
    "    y_tensor = x_tensor ** 2\n",
    "    z_tensor = tf.math.reduce_sum(y_tensor) \n",
    "\n",
    "grad = tape.gradient(z, x) \n",
    "grad_tensor = tape2.gradient(z_tensor,x_tensor) \n",
    "print(grad) \n",
    "print(grad_tensor) \n"
   ]
  },
  {
   "cell_type": "markdown",
   "id": "a6a26871-e059-4944-98d0-e69def0d6c27",
   "metadata": {},
   "source": [
    "## Gradient Descent\n",
    "Gradient descent is an algorithm to find the optima (e.g. minima or maxima) of a function. Let’s see the algorithm in action:"
   ]
  },
  {
   "cell_type": "code",
   "execution_count": 25,
   "id": "27fbd30e-bbed-44ce-98f9-f3f0130fac0e",
   "metadata": {
    "tags": []
   },
   "outputs": [
    {
     "data": {
      "text/html": [
       "<img src=\"https://www.dropbox.com/s/5bm62eqdveo9h5g/pytorch_tensorflow_tutorial_1.gif?dl=1\">"
      ],
      "text/plain": [
       "<IPython.core.display.HTML object>"
      ]
     },
     "execution_count": 25,
     "metadata": {},
     "output_type": "execute_result"
    }
   ],
   "source": [
    "HTML('<img src=\"https://www.dropbox.com/s/5bm62eqdveo9h5g/pytorch_tensorflow_tutorial_1.gif?dl=1\">')"
   ]
  },
  {
   "cell_type": "markdown",
   "id": "d65ea928-e1ea-4f8f-a404-2f0f21506eb6",
   "metadata": {},
   "source": [
    "## Implementing Gradient Descent\n",
    "\n",
    "### pyTorch"
   ]
  },
  {
   "cell_type": "code",
   "execution_count": 26,
   "id": "22d67063-f95b-4635-923e-2165efa0aad6",
   "metadata": {},
   "outputs": [
    {
     "name": "stdout",
     "output_type": "stream",
     "text": [
      "tensor([-5.5000,  5.5000], requires_grad=True)\n",
      "tensor([-1.2500,  4.2500])\n",
      "tensor([0.8750, 3.6250])\n",
      "tensor([1.9375, 3.3125])\n",
      "tensor([2.4688, 3.1562])\n",
      "tensor([2.7344, 3.0781])\n"
     ]
    }
   ],
   "source": [
    "import torch\n",
    "from torch.autograd import Variable \n",
    "\n",
    "x = Variable(torch.Tensor([-5.5, 5.5]), requires_grad=True) \n",
    "print(x) \n",
    "for i in range(5):    \n",
    "    # Also try some other complicated functions of x\n",
    "    y = (x-3)**2\n",
    "    z = y.sum()\n",
    "    z.backward()\n",
    "    out = x.data - 0.25*x.grad.data\n",
    "    print(out)\n",
    "    x = Variable(out, requires_grad=True)"
   ]
  },
  {
   "cell_type": "markdown",
   "id": "3dc20811-047d-45b7-974c-3c10025dcad2",
   "metadata": {},
   "source": [
    "### Tensorflow"
   ]
  },
  {
   "cell_type": "code",
   "execution_count": 27,
   "id": "05a48c7c-5450-4d5b-bf62-c4fc89cc4765",
   "metadata": {},
   "outputs": [
    {
     "name": "stdout",
     "output_type": "stream",
     "text": [
      "<tf.Variable 'Variable:0' shape=(2,) dtype=float32, numpy=array([-5.5,  3. ], dtype=float32)>\n",
      "tf.Tensor([-17.   0.], shape=(2,), dtype=float32)\n",
      "tf.Tensor([-1.25  3.  ], shape=(2,), dtype=float32)\n",
      "tf.Tensor([-8.5  0. ], shape=(2,), dtype=float32)\n",
      "tf.Tensor([0.875 3.   ], shape=(2,), dtype=float32)\n",
      "tf.Tensor([-4.25  0.  ], shape=(2,), dtype=float32)\n",
      "tf.Tensor([1.9375 3.    ], shape=(2,), dtype=float32)\n",
      "tf.Tensor([-2.125  0.   ], shape=(2,), dtype=float32)\n",
      "tf.Tensor([2.46875 3.     ], shape=(2,), dtype=float32)\n",
      "tf.Tensor([-1.0625  0.    ], shape=(2,), dtype=float32)\n",
      "tf.Tensor([2.734375 3.      ], shape=(2,), dtype=float32)\n"
     ]
    }
   ],
   "source": [
    "import tensorflow as tf\n",
    "\n",
    "x = tf.Variable([-5.5, 3.]) \n",
    "print(x) \n",
    "\n",
    "for i in range(5): \n",
    "    with tf.GradientTape() as tape: \n",
    "        tape.watch(x) \n",
    "        y = (x - 3) ** 2. \n",
    "        z = tf.reduce_sum(y) \n",
    "        dz_dx = tape.gradient(z, x) \n",
    "        print(dz_dx) \n",
    "        # Update parameter \n",
    "        x = x - 0.25*dz_dx \n",
    "        print(x)"
   ]
  },
  {
   "cell_type": "markdown",
   "id": "daddcaa7-c213-4bd2-a59c-464656bfa2c8",
   "metadata": {},
   "source": [
    "# Implementing a simple neuron\n",
    "\n",
    "Let us implement an `or gate` using a simple neuron. The neuron must take two numbers (each can be either 0 or 1) and produce the logical `OR` operation between the output. The beauty of a neural network is that we do not need to explicitely tell it how to actually do the computation. We'll just provide the inputs and the outputs; the network will automatically figure out what to do with the input to produce the correct output.\n",
    "\n",
    "The mathematical formulation of the neuron is shown below."
   ]
  },
  {
   "cell_type": "code",
   "execution_count": 28,
   "id": "0f5f39f9-9921-4548-abde-ceabea927190",
   "metadata": {
    "tags": []
   },
   "outputs": [
    {
     "data": {
      "text/html": [
       "<img src=\"https://www.dropbox.com/s/a6zb23eu3dhaj9y/Simple_neuron_1.png?dl=1\">"
      ],
      "text/plain": [
       "<IPython.core.display.HTML object>"
      ]
     },
     "execution_count": 28,
     "metadata": {},
     "output_type": "execute_result"
    }
   ],
   "source": [
    "HTML('<img src=\"https://www.dropbox.com/s/a6zb23eu3dhaj9y/Simple_neuron_1.png?dl=1\">')"
   ]
  },
  {
   "cell_type": "markdown",
   "id": "30f73f94-f826-4f7f-b09c-71479236a217",
   "metadata": {},
   "source": [
    "In the following code snippets, notice how similar pyTorch and Tensorflow codes are. The neural network classes differ only in terms of the names of the method responsible for the forward pass of the computation. In pyTorch, it is named `forward` and in Tensorflow, it is `__call__`.\n",
    "\n",
    "### pyTorch"
   ]
  },
  {
   "cell_type": "code",
   "execution_count": 29,
   "id": "2cd4a220-e4cd-4402-9366-27e6436c9bd7",
   "metadata": {},
   "outputs": [
    {
     "name": "stdout",
     "output_type": "stream",
     "text": [
      "tensor([[0.5201]], grad_fn=<SigmoidBackward>)\n"
     ]
    }
   ],
   "source": [
    "import numpy as np \n",
    "import torch \n",
    "from torch.autograd import Variable \n",
    "import torch.nn as nn \n",
    "import torch.nn.functional as F \n",
    "\n",
    "class NNet(nn.Module): \n",
    "\n",
    "    def __init__(self): \n",
    "        super().__init__()\n",
    "        # It takes row vectors of dimension 2 \n",
    "        self.lin = nn.Linear(2,1) \n",
    "    \n",
    "    def forward(self, x): \n",
    "        return F.sigmoid(self.lin(x)) \n",
    "\n",
    "net_pt = NNet() \n",
    "x = Variable(torch.Tensor([[1,0]])) \n",
    "print(net_pt(x))"
   ]
  },
  {
   "cell_type": "markdown",
   "id": "3948d08c-01f9-4bec-916d-3ad10ded64ac",
   "metadata": {},
   "source": [
    "### Tensorflow"
   ]
  },
  {
   "cell_type": "code",
   "execution_count": 30,
   "id": "591d2985-50d6-409b-8ecb-e7e9747b48e3",
   "metadata": {},
   "outputs": [
    {
     "name": "stdout",
     "output_type": "stream",
     "text": [
      "tf.Tensor([[0.23421289]], shape=(1, 1), dtype=float32)\n"
     ]
    }
   ],
   "source": [
    "import tensorflow as tf\n",
    "from tensorflow.keras.layers import Dense\n",
    "\n",
    "\n",
    "class NNet(tf.Module):    \n",
    "    def __init__(self):\n",
    "        super().__init__()\n",
    "        self.dense_layer = Dense(1, activation='sigmoid')\n",
    "    \n",
    "    def __call__(self, input):\n",
    "        dense_output = self.dense_layer(input)\n",
    "        return dense_output\n",
    "\n",
    "net_tf = NNet()\n",
    "input = tf.Variable([[1., 0.]])\n",
    "print(net_tf(input))"
   ]
  },
  {
   "cell_type": "markdown",
   "id": "539a4706-30aa-4ca5-ba7e-a09f86dc06c0",
   "metadata": {},
   "source": [
    "The `Linear` layer in pyTorch or the `Dense` layer in Tensorflow contains some hidden variables that we call `the network parameters`. During the training process, these variables adjust to the \"correct\" value to produce the desired output for any given input. It is possible to see the network parameters in both pyTorch and Tensorflow."
   ]
  },
  {
   "cell_type": "code",
   "execution_count": 31,
   "id": "abfb6d5e-7c91-43ae-a47a-39ac871eaf38",
   "metadata": {},
   "outputs": [
    {
     "data": {
      "text/html": [
       "<strong>Parameters for the pytorch network:</strong>"
      ],
      "text/plain": [
       "<IPython.core.display.HTML object>"
      ]
     },
     "metadata": {},
     "output_type": "display_data"
    },
    {
     "name": "stdout",
     "output_type": "stream",
     "text": [
      "Parameter containing:\n",
      "tensor([[ 0.6024, -0.4435]], requires_grad=True)\n",
      "Parameter containing:\n",
      "tensor([-0.5219], requires_grad=True)\n"
     ]
    },
    {
     "data": {
      "text/html": [
       "<strong>Parameters for the Tensorflow network:</strong>"
      ],
      "text/plain": [
       "<IPython.core.display.HTML object>"
      ]
     },
     "metadata": {},
     "output_type": "display_data"
    },
    {
     "name": "stdout",
     "output_type": "stream",
     "text": [
      "tf.Tensor(\n",
      "[[-1.1846737]\n",
      " [-1.2093475]], shape=(2, 1), dtype=float32)\n",
      "tf.Tensor([0.], shape=(1,), dtype=float32)\n"
     ]
    }
   ],
   "source": [
    "display(HTML(\"<strong>Parameters for the pytorch network:</strong>\"))\n",
    "for a_param in net_pt.parameters():\n",
    "    print(a_param)\n",
    "\n",
    "display(HTML(\"<strong>Parameters for the Tensorflow network:</strong>\"))\n",
    "for a_param in net_tf.variables:\n",
    "    print(a_param.value())"
   ]
  },
  {
   "cell_type": "markdown",
   "id": "9bdd27ac-29ca-4c9a-9d52-4f1949218f2a",
   "metadata": {},
   "source": [
    "Noteably, one of the parameters contain the same dimensionality as the input, and the other parameter has the dimensionality of 1. The first parameter (the one with dim. 2, let's say $\\mathbf{w}$) is multiplied with the input and the other one (with dim 1, say $b$) is added to the product. Together, they form a decision line in the 2-dimensional space. The parameter $\\mathbf{w}$ is the slope of the decision line, and $b$ is the intercept."
   ]
  },
  {
   "cell_type": "markdown",
   "id": "c99cd023-2289-426d-b14a-79aba5407d09",
   "metadata": {},
   "source": [
    "# Training the neuron\n",
    "\n",
    "We implemented the forward operation through the neuron. But it is an untrained neuron, so it didn't provide the correct answer. We want to train it so that it can correctly work as an or gate. To conduct the training, we need the following two things:\n",
    "1. We need some data to train on. In the data, we'll provide some randomly generated `input` and the desired `output`. This format of training is called supervised training.\n",
    "2. We need to decide upon a `loss` for providing a wrong answer. Then we'll minimize the loss using gradient descent\n",
    "\n",
    "### pyTorch"
   ]
  },
  {
   "cell_type": "code",
   "execution_count": 32,
   "id": "3f7ac5cc-fa6d-446e-a800-8f7d6451f768",
   "metadata": {},
   "outputs": [
    {
     "name": "stdout",
     "output_type": "stream",
     "text": [
      "input: [[0. 0.]] actual output should be: 0.0 net output: 0.37241194 loss: [0.13869065]\n",
      "input: [[0. 1.]] actual output should be: 1.0 net output: 0.74754155 loss: [0.06373527]\n",
      "input: [[0. 0.]] actual output should be: 0.0 net output: 0.38373128 loss: [0.1472497]\n",
      "input: [[0. 0.]] actual output should be: 0.0 net output: 0.25899634 loss: [0.0670791]\n",
      "input: [[0. 0.]] actual output should be: 0.0 net output: 0.2260203 loss: [0.05108518]\n",
      "input: [[0. 0.]] actual output should be: 0.0 net output: 0.23298575 loss: [0.05428236]\n",
      "input: [[0. 1.]] actual output should be: 1.0 net output: 0.89136934 loss: [0.01180062]\n",
      "input: [[0. 1.]] actual output should be: 1.0 net output: 0.8948328 loss: [0.01106014]\n",
      "input: [[1. 1.]] actual output should be: 1.0 net output: 0.9967218 loss: [1.07465685e-05]\n",
      "input: [[0. 0.]] actual output should be: 0.0 net output: 0.15272528 loss: [0.02332501]\n",
      "input: [[0. 0.]] actual output should be: 0.0 net output: 0.16019672 loss: [0.02566299]\n",
      "input: [[1. 1.]] actual output should be: 1.0 net output: 0.9985903 loss: [1.9872807e-06]\n",
      "input: [[1. 1.]] actual output should be: 1.0 net output: 0.99887794 loss: [1.259013e-06]\n",
      "input: [[0. 0.]] actual output should be: 0.0 net output: 0.14272739 loss: [0.02037111]\n",
      "input: [[1. 0.]] actual output should be: 1.0 net output: 0.9234849 loss: [0.00585456]\n",
      "input: [[0. 1.]] actual output should be: 1.0 net output: 0.9309966 loss: [0.00476147]\n",
      "input: [[0. 1.]] actual output should be: 1.0 net output: 0.93148065 loss: [0.0046949]\n",
      "input: [[1. 0.]] actual output should be: 1.0 net output: 0.9344236 loss: [0.00430026]\n",
      "input: [[0. 0.]] actual output should be: 0.0 net output: 0.108278975 loss: [0.01172434]\n",
      "input: [[1. 1.]] actual output should be: 1.0 net output: 0.9994425 loss: [3.1078645e-07]\n",
      "input: [[1. 0.]] actual output should be: 1.0 net output: 0.9390702 loss: [0.00371244]\n",
      "input: [[1. 1.]] actual output should be: 1.0 net output: 0.9995535 loss: [1.9936081e-07]\n",
      "input: [[1. 1.]] actual output should be: 1.0 net output: 0.99959034 loss: [1.6782354e-07]\n",
      "input: [[0. 1.]] actual output should be: 1.0 net output: 0.94351006 loss: [0.00319111]\n",
      "input: [[1. 0.]] actual output should be: 1.0 net output: 0.94535804 loss: [0.00298574]\n",
      "input: [[0. 1.]] actual output should be: 1.0 net output: 0.9476619 loss: [0.00273928]\n",
      "input: [[0. 1.]] actual output should be: 1.0 net output: 0.9494861 loss: [0.00255166]\n",
      "input: [[1. 0.]] actual output should be: 1.0 net output: 0.9475804 loss: [0.00274781]\n",
      "input: [[0. 0.]] actual output should be: 0.0 net output: 0.08541586 loss: [0.00729587]\n",
      "input: [[0. 0.]] actual output should be: 0.0 net output: 0.082992785 loss: [0.0068878]\n",
      "input: [[0. 0.]] actual output should be: 0.0 net output: 0.08331633 loss: [0.00694161]\n",
      "input: [[0. 1.]] actual output should be: 1.0 net output: 0.95129913 loss: [0.00237177]\n",
      "input: [[0. 1.]] actual output should be: 1.0 net output: 0.94989055 loss: [0.00251096]\n",
      "input: [[0. 0.]] actual output should be: 0.0 net output: 0.07586751 loss: [0.00575588]\n",
      "input: [[1. 1.]] actual output should be: 1.0 net output: 0.9997925 loss: [4.3049514e-08]\n",
      "input: [[1. 0.]] actual output should be: 1.0 net output: 0.95409477 loss: [0.00210729]\n",
      "input: [[1. 0.]] actual output should be: 1.0 net output: 0.95546055 loss: [0.00198376]\n",
      "input: [[1. 1.]] actual output should be: 1.0 net output: 0.9998254 loss: [3.0478876e-08]\n",
      "input: [[1. 0.]] actual output should be: 1.0 net output: 0.9571857 loss: [0.00183307]\n",
      "input: [[0. 1.]] actual output should be: 1.0 net output: 0.9546285 loss: [0.00205857]\n",
      "input: [[1. 1.]] actual output should be: 1.0 net output: 0.99984837 loss: [2.2992936e-08]\n",
      "input: [[0. 1.]] actual output should be: 1.0 net output: 0.9558302 loss: [0.00195097]\n",
      "input: [[1. 0.]] actual output should be: 1.0 net output: 0.95921606 loss: [0.00166333]\n",
      "input: [[0. 1.]] actual output should be: 1.0 net output: 0.95750844 loss: [0.00180553]\n",
      "input: [[0. 0.]] actual output should be: 0.0 net output: 0.06605629 loss: [0.00436343]\n",
      "input: [[0. 1.]] actual output should be: 1.0 net output: 0.9582146 loss: [0.00174602]\n",
      "input: [[0. 0.]] actual output should be: 0.0 net output: 0.06398068 loss: [0.00409353]\n",
      "input: [[1. 1.]] actual output should be: 1.0 net output: 0.9998853 loss: [1.315135e-08]\n",
      "input: [[1. 0.]] actual output should be: 1.0 net output: 0.96160764 loss: [0.00147397]\n",
      "input: [[0. 0.]] actual output should be: 0.0 net output: 0.06089913 loss: [0.0037087]\n"
     ]
    }
   ],
   "source": [
    "import torch.optim as optim\n",
    "\n",
    "optimizer = optim.SGD(net_pt.parameters(), lr=0.33)\n",
    "for i in range(5000):\n",
    "    input_v = (np.random.rand(1,2)>0.5).astype(float)\n",
    "    output_v = np.any(input_v).astype(float)\n",
    "    \n",
    "    net_output = net_pt(Variable(torch.Tensor(input_v)))\n",
    "    loss = (Variable(torch.Tensor([output_v]))-net_output)**2\n",
    "    \n",
    "    if i % 100 == 0:\n",
    "        print('input:', input_v, 'actual output should be:', output_v,'net output:', net_output.data.numpy()[0,0], 'loss:', loss.data.numpy()[0])\n",
    "    loss.backward()\n",
    "    optimizer.step()\n",
    "    net_pt.zero_grad()\n"
   ]
  },
  {
   "cell_type": "markdown",
   "id": "f0e9ddef-92d2-4217-831d-c03c2ee27758",
   "metadata": {},
   "source": [
    "### Tensorflow"
   ]
  },
  {
   "cell_type": "code",
   "execution_count": 33,
   "id": "ce7ab62e-d98f-406f-885f-4342ca7be222",
   "metadata": {},
   "outputs": [
    {
     "name": "stdout",
     "output_type": "stream",
     "text": [
      "input: [[0. 0.]] actual output should be: 0.0 net output: 0.5 loss: 0.25\n",
      "input: [[1. 1.]] actual output should be: 1.0 net output: 0.89627415 loss: 0.010759052\n",
      "input: [[1. 1.]] actual output should be: 1.0 net output: 0.9577437 loss: 0.0017855945\n",
      "input: [[1. 0.]] actual output should be: 1.0 net output: 0.82634145 loss: 0.030157292\n",
      "input: [[1. 1.]] actual output should be: 1.0 net output: 0.98112774 loss: 0.00035616223\n",
      "input: [[0. 0.]] actual output should be: 0.0 net output: 0.2614005 loss: 0.06833022\n",
      "input: [[0. 0.]] actual output should be: 0.0 net output: 0.22208074 loss: 0.049319852\n",
      "input: [[1. 1.]] actual output should be: 1.0 net output: 0.99333763 loss: 4.4387158e-05\n",
      "input: [[1. 1.]] actual output should be: 1.0 net output: 0.99574536 loss: 1.8101955e-05\n",
      "input: [[0. 1.]] actual output should be: 1.0 net output: 0.89214134 loss: 0.01163349\n",
      "input: [[0. 0.]] actual output should be: 0.0 net output: 0.17270328 loss: 0.029826423\n",
      "input: [[1. 0.]] actual output should be: 1.0 net output: 0.9107087 loss: 0.007972932\n",
      "input: [[1. 1.]] actual output should be: 1.0 net output: 0.9982552 loss: 3.0443507e-06\n",
      "input: [[1. 0.]] actual output should be: 1.0 net output: 0.9149189 loss: 0.007238793\n",
      "input: [[1. 1.]] actual output should be: 1.0 net output: 0.9987037 loss: 1.6803466e-06\n",
      "input: [[0. 1.]] actual output should be: 1.0 net output: 0.9218901 loss: 0.00610116\n",
      "input: [[1. 1.]] actual output should be: 1.0 net output: 0.99904114 loss: 9.1941234e-07\n",
      "input: [[0. 1.]] actual output should be: 1.0 net output: 0.9253377 loss: 0.0055744634\n",
      "input: [[0. 0.]] actual output should be: 0.0 net output: 0.11312116 loss: 0.012796396\n",
      "input: [[1. 0.]] actual output should be: 1.0 net output: 0.92976546 loss: 0.00493289\n",
      "input: [[0. 1.]] actual output should be: 1.0 net output: 0.9326902 loss: 0.0045306087\n",
      "input: [[0. 1.]] actual output should be: 1.0 net output: 0.9371491 loss: 0.003950235\n",
      "input: [[1. 0.]] actual output should be: 1.0 net output: 0.93886304 loss: 0.0037377279\n",
      "input: [[0. 1.]] actual output should be: 1.0 net output: 0.9345463 loss: 0.0042841877\n",
      "input: [[1. 0.]] actual output should be: 1.0 net output: 0.9407276 loss: 0.0035132184\n",
      "input: [[0. 1.]] actual output should be: 1.0 net output: 0.9391228 loss: 0.0037060338\n",
      "input: [[1. 1.]] actual output should be: 1.0 net output: 0.9996106 loss: 1.5163013e-07\n",
      "input: [[1. 1.]] actual output should be: 1.0 net output: 0.9996427 loss: 1.2764201e-07\n",
      "input: [[0. 1.]] actual output should be: 1.0 net output: 0.94264394 loss: 0.0032897177\n",
      "input: [[1. 1.]] actual output should be: 1.0 net output: 0.9996921 loss: 9.481324e-08\n",
      "input: [[0. 1.]] actual output should be: 1.0 net output: 0.9484706 loss: 0.0026552796\n",
      "input: [[1. 1.]] actual output should be: 1.0 net output: 0.99973613 loss: 6.9627255e-08\n",
      "input: [[0. 0.]] actual output should be: 0.0 net output: 0.0808695 loss: 0.0065398766\n",
      "input: [[0. 0.]] actual output should be: 0.0 net output: 0.079687946 loss: 0.0063501685\n",
      "input: [[1. 0.]] actual output should be: 1.0 net output: 0.9511493 loss: 0.0023863923\n",
      "input: [[0. 1.]] actual output should be: 1.0 net output: 0.950129 loss: 0.0024871193\n",
      "input: [[1. 1.]] actual output should be: 1.0 net output: 0.9997973 loss: 4.1093532e-08\n",
      "input: [[1. 1.]] actual output should be: 1.0 net output: 0.99981123 loss: 3.563332e-08\n",
      "input: [[0. 0.]] actual output should be: 0.0 net output: 0.072211094 loss: 0.0052144425\n",
      "input: [[1. 1.]] actual output should be: 1.0 net output: 0.9998307 loss: 2.8654767e-08\n",
      "input: [[0. 1.]] actual output should be: 1.0 net output: 0.95585364 loss: 0.001948901\n",
      "input: [[1. 1.]] actual output should be: 1.0 net output: 0.99984765 loss: 2.3210362e-08\n",
      "input: [[1. 1.]] actual output should be: 1.0 net output: 0.9998547 loss: 2.1116776e-08\n",
      "input: [[1. 0.]] actual output should be: 1.0 net output: 0.9592119 loss: 0.0016636702\n",
      "input: [[0. 0.]] actual output should be: 0.0 net output: 0.06742147 loss: 0.004545655\n",
      "input: [[0. 1.]] actual output should be: 1.0 net output: 0.95896834 loss: 0.001683597\n",
      "input: [[0. 1.]] actual output should be: 1.0 net output: 0.9591133 loss: 0.0016717223\n",
      "input: [[0. 0.]] actual output should be: 0.0 net output: 0.06368894 loss: 0.004056281\n",
      "input: [[0. 0.]] actual output should be: 0.0 net output: 0.062695764 loss: 0.003930759\n",
      "input: [[0. 0.]] actual output should be: 0.0 net output: 0.062419973 loss: 0.003896253\n"
     ]
    }
   ],
   "source": [
    "optim = tf.optimizers.SGD(learning_rate=0.33)\n",
    "for i in range(5000):\n",
    "    in_v = tf.Variable((np.random.rand(1,2)>0.5).astype(np.float32))\n",
    "    out_v = tf.Variable(np.any(in_v).astype(np.float32))\n",
    "    \n",
    "    with tf.GradientTape() as tape:\n",
    "        net_output = net_tf(in_v)\n",
    "        # We are manually computing the squared error loss.\n",
    "        # It is possible to use built in functions instead.\n",
    "        loss = tf.reduce_mean((net_output - out_v) ** 2)\n",
    "    \n",
    "    loss_grad = tape.gradient(loss, net_tf.trainable_variables)    \n",
    "\n",
    "    if i % 100 == 0:\n",
    "        print('input:', in_v.numpy(), 'actual output should be:', out_v.numpy(),'net output:', net_output.numpy()[0,0], 'loss:', loss.numpy())\n",
    "    \n",
    "    # Take a gradient descent update\n",
    "    optim.apply_gradients(zip(loss_grad, net_tf.trainable_variables))\n"
   ]
  },
  {
   "cell_type": "markdown",
   "id": "29bfbbd2-6ce5-4f70-9faf-4978b4b5b007",
   "metadata": {},
   "source": [
    "Let us check the network parameters again"
   ]
  },
  {
   "cell_type": "code",
   "execution_count": 34,
   "id": "b5c818e7-3e9a-4349-903f-7b2bd76629ea",
   "metadata": {},
   "outputs": [
    {
     "data": {
      "text/html": [
       "<strong>Parameters for the pytorch network:</strong>"
      ],
      "text/plain": [
       "<IPython.core.display.HTML object>"
      ]
     },
     "metadata": {},
     "output_type": "display_data"
    },
    {
     "name": "stdout",
     "output_type": "stream",
     "text": [
      "Parameter containing:\n",
      "tensor([[5.9829, 5.9479]], requires_grad=True)\n",
      "Parameter containing:\n",
      "tensor([-2.7361], requires_grad=True)\n"
     ]
    },
    {
     "data": {
      "text/html": [
       "<strong>Parameters for the Tensorflow network:</strong>"
      ],
      "text/plain": [
       "<IPython.core.display.HTML object>"
      ]
     },
     "metadata": {},
     "output_type": "display_data"
    },
    {
     "name": "stdout",
     "output_type": "stream",
     "text": [
      "tf.Tensor(\n",
      "[[5.9202266]\n",
      " [5.9310384]], shape=(2, 1), dtype=float32)\n",
      "tf.Tensor([-2.7203953], shape=(1,), dtype=float32)\n"
     ]
    }
   ],
   "source": [
    "display(HTML(\"<strong>Parameters for the pytorch network:</strong>\"))\n",
    "param_pt = []\n",
    "for a_param in net_pt.parameters():\n",
    "    param_pt.append(a_param.data.numpy())\n",
    "    print(a_param)\n",
    "\n",
    "param_tf = []\n",
    "display(HTML(\"<strong>Parameters for the Tensorflow network:</strong>\"))\n",
    "for a_param in net_tf.variables:\n",
    "    param_tf.append(a_param.numpy())\n",
    "    print(a_param.value())"
   ]
  },
  {
   "cell_type": "markdown",
   "id": "3a02c28d-b9a9-4aa6-abf3-3681c95adf40",
   "metadata": {},
   "source": [
    "So, in this case, the decision surface (A 2-d surface is a line) for the trained pyTorch and Tensorflow model is :\n",
    "\n",
    "$$ wX^T + b = 0 $$\n",
    "\n",
    "In the following figures, the decision surface is plotted for both models. Have you noticed how the points (0,1), (1,0), and (1,1) are located in one side of the decision line but the point (0,0) is located on the other side? This is the working principle of a neural network when working as a classifier. During the training process, the internal parameters are adjusted so that the different classes of datapoints at located at different sides of the surface. There are many techniques for optimizing the loss, adjusting the learning rate, terminating the loop for training a neural network. But the core underlying principle is just the same."
   ]
  },
  {
   "cell_type": "code",
   "execution_count": 35,
   "id": "82b2009d-94db-4dbe-9eb9-a7ef8a89b0fe",
   "metadata": {},
   "outputs": [
    {
     "data": {
      "image/png": "[encoded data removed]",
      "text/plain": [
       "<Figure size 640x480 with 1 Axes>"
      ]
     },
     "metadata": {},
     "output_type": "display_data"
    },
    {
     "data": {
      "text/html": [
       "Decision Boundary for the pyTorch Model"
      ],
      "text/plain": [
       "<IPython.core.display.HTML object>"
      ]
     },
     "metadata": {},
     "output_type": "display_data"
    }
   ],
   "source": [
    "import matplotlib.pyplot as plt\n",
    "import numpy as np\n",
    "\n",
    "delta = 0.002\n",
    "xrange = np.arange(-1.0, 2.0, delta)\n",
    "yrange = np.arange(-1.0, 2.0, delta)\n",
    "X, Y = np.meshgrid(xrange,yrange)\n",
    "\n",
    "plt.contour(X, Y, param_pt[0][0,0]*X + param_pt[0][0,1]*Y + np.array(param_pt[1]), [0])\n",
    "plt.scatter([0,0,1,1], [0,1,0,1])\n",
    "plt.grid('both')\n",
    "plt.show()\n",
    "display(HTML(\"Decision Boundary for the pyTorch Model\"))"
   ]
  },
  {
   "cell_type": "code",
   "execution_count": 36,
   "id": "9c08dd63-7c21-42db-a1da-583b5482cf2e",
   "metadata": {},
   "outputs": [
    {
     "data": {
      "image/png": "[encoded data removed]",
      "text/plain": [
       "<Figure size 640x480 with 1 Axes>"
      ]
     },
     "metadata": {},
     "output_type": "display_data"
    },
    {
     "data": {
      "text/html": [
       "Decision Boundary for the Tensorflow Model"
      ],
      "text/plain": [
       "<IPython.core.display.HTML object>"
      ]
     },
     "metadata": {},
     "output_type": "display_data"
    }
   ],
   "source": [
    "plt.contour(X, Y, param_tf[0][0,0]*X + param_tf[0][1,0]*Y + np.array(param_tf[1]), [0])\n",
    "plt.scatter([0,0,1,1], [0,1,0,1])\n",
    "plt.grid('both')\n",
    "plt.show()\n",
    "display(HTML(\"Decision Boundary for the Tensorflow Model\"))"
   ]
  },
  {
   "cell_type": "markdown",
   "id": "456d66db-7055-4306-bd78-3d5ef98e730e",
   "metadata": {},
   "source": [
    "## How about an `xor` gate?\n",
    "\n",
    "At this point you might be wondering about how the neuron will perform for an xor gate. There is no straight line in the 2-d space that can separate the positive classes from the negative in this case. Long ago, MIT Professor [Marvin Minsky](https://en.wikipedia.org/wiki/Marvin_Minsky) challenged the work of [Frank Rosenblatt](https://en.wikipedia.org/wiki/Frank_Rosenblatt) on the basis on this very problem and caused an AI winter. Fortunately, now we know the solution. It is true that this problem is not solvable by a single neuron. But we can arbitrarily increase the number of neurons (By either using more `Dense` (Tensorflow) or `Linear` (pyTorch) layers, or by setting the output of the `Dense`/`Linear` layers to more than 1). In that way, the decision surface doesn't have to be a straight line. By arbitrarily increasing the number of neurons (e.g. the number of model parameters), it is possible to make the dicision surface arbitrarily distorted. Try playing with the number of neurons in the [neural network playground for this problem](https://playground.tensorflow.org/#activation=sigmoid&batchSize=10&dataset=xor&regDataset=reg-plane&learningRate=0.03&regularizationRate=0&noise=0&networkShape=1&seed=0.26802&showTestData=false&discretize=false&percTrainData=50&x=true&y=true&xTimesY=false&xSquared=false&ySquared=false&cosX=false&sinX=false&cosY=false&sinY=false&collectStats=false&problem=classification&initZero=false&hideText=false)."
   ]
  },
  {
   "cell_type": "code",
   "execution_count": null,
   "id": "43d8677e-f279-4122-98bc-9700eb478f02",
   "metadata": {},
   "outputs": [],
   "source": []
  }
 ],
 "metadata": {
  "kernelspec": {
   "display_name": "Python 3 (ipykernel)",
   "language": "python",
   "name": "python3"
  },
  "language_info": {
   "codemirror_mode": {
    "name": "ipython",
    "version": 3
   },
   "file_extension": ".py",
   "mimetype": "text/x-python",
   "name": "python",
   "nbconvert_exporter": "python",
   "pygments_lexer": "ipython3",
   "version": "3.8.5"
  }
 },
 "nbformat": 4,
 "nbformat_minor": 5
}
